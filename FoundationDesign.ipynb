{
 "cells": [
  {
   "cell_type": "markdown",
   "id": "304bf939",
   "metadata": {},
   "source": [
    "## Bearing Capacity Methods\n",
    "\n",
    "### **1. Terzaghi's Method**\n",
    "**Overview**: Terzaghi's method is one of the earliest and most widely used methods for calculating the bearing capacity of shallow foundations. It is based on the theory of plastic equilibrium in soils.\n",
    "\n",
    "**Equation**:\n",
    "$$\n",
    "q_{ult} = cN_c + qN_q + 0.5\\gamma BN_\\gamma\n",
    "$$\n",
    "where:\n",
    "- \\( q_{ult} \\) = ultimate bearing capacity\n",
    "- \\( c \\) = cohesion of the soil\n",
    "- \\( q \\) = overburden pressure at the foundation level\n",
    "- \\( \\gamma \\) = unit weight of the soil\n",
    "- \\( B \\) = width of the foundation\n",
    "- \\( N_c, N_q, N_\\gamma \\) = bearing capacity factors, which depend on the internal friction angle (\\(\\phi\\))\n",
    "\n",
    "**Assumptions**:\n",
    "- The soil is homogeneous and isotropic.\n",
    "- The foundation is shallow.\n",
    "- The load is applied vertically and centrally.\n",
    "\n",
    "### **2. Meyerhof's Method**\n",
    "**Overview**: Meyerhof's method extends Terzaghi's theory by considering the shape and depth of the foundation, as well as the inclination of the load.\n",
    "\n",
    "**Equation**:\n",
    "$$\n",
    "q_{ult} = cN_c + qN_q + 0.5\\gamma BN_\\gamma \\left(1 + 0.3 \\frac{B}{L}\\right)\n",
    "$$\n",
    "where:\n",
    "- \\( L \\) = length of the foundation\n",
    "- Other terms are as defined in Terzaghi's method.\n",
    "\n",
    "**Assumptions**:\n",
    "- Similar to Terzaghi's method, but includes adjustments for foundation shape and load inclination.\n",
    "\n",
    "### **3. Hansen's Method**\n",
    "**Overview**: Hansen's method further refines the bearing capacity calculation by including shape, depth, and inclination factors for each term in the bearing capacity equation.\n",
    "\n",
    "**Equation**:\n",
    "$$\n",
    "q_{ult} = cN_c s_c d_c i_c + qN_q s_q d_q i_q + 0.5\\gamma BN_\\gamma s_\\gamma d_\\gamma i_\\gamma\n",
    "$$\n",
    "where:\n",
    "- \\( s_c, s_q, s_\\gamma \\) = shape factors\n",
    "- \\( d_c, d_q, d_\\gamma \\) = depth factors\n",
    "- \\( i_c, i_q, i_\\gamma \\) = inclination factors\n",
    "- Other terms are as defined in Terzaghi's method.\n",
    "\n",
    "**Assumptions**:\n",
    "- More comprehensive than Terzaghi's and Meyerhof's methods, accounting for various factors affecting bearing capacity.\n",
    "\n",
    "### **Interpreting the Results**\n",
    "- **Terzaghi's Method**: Provides a basic estimate of bearing capacity, suitable for simple cases with shallow foundations and uniform soil conditions.\n",
    "- **Meyerhof's Method**: Offers a more refined estimate by considering the shape and depth of the foundation, making it suitable for a wider range of conditions.\n",
    "- **Hansen's Method**: Provides the most comprehensive estimate by including additional factors, making it suitable for complex conditions with varying soil properties and load inclinations.\n",
    "\n",
    "### **Recommendations**\n",
    "- **Consistency**: If the bearing capacities calculated by the different methods are similar, it indicates consistency in the results, and any method can be used based on convenience.\n",
    "- **Significant Differences**: If there are significant differences between the methods, further investigation and validation of soil parameters are recommended to ensure accurate design.\n",
    "\n",
    "### **Bearing Capacity Factors Table**\n",
    "The following table provides typical values for the bearing capacity factors (\\(N_c\\), \\(N_q\\), \\(N_\\gamma\\)) based on the internal friction angle (\\(\\phi\\)):\n",
    "\n",
    "| \\(\\phi\\) (degrees) | \\(N_c\\) | \\(N_q\\) | \\(N_\\gamma\\) |\n",
    "|--------------------|---------|---------|--------------|\n",
    "| 0                  | 5.14    | 1.00    | 0.00         |\n",
    "| 5                  | 6.50    | 1.57    | 0.21         |\n",
    "| 10                 | 8.34    | 2.47    | 0.67         |\n",
    "| 15                 | 11.00   | 3.90    | 1.41         |\n",
    "| 20                 | 15.00   | 6.40    | 2.56         |\n",
    "| 25                 | 20.70   | 10.60   | 4.40         |\n",
    "| 30                 | 27.70   | 18.40   | 7.40         |\n",
    "| 35                 | 37.20   | 31.00   | 11.80        |\n",
    "| 40                 | 50.60   | 52.00   | 18.40        |\n",
    "| 45                 | 69.30   | 100.00  | 32.40        |\n",
    "\n",
    "These methods are essential tools in geotechnical engineering for designing safe and stable foundations. Understanding their assumptions and limitations helps engineers choose the appropriate method for their specific project conditions.\n"
   ]
  },
  {
   "cell_type": "code",
   "execution_count": 11,
   "id": "b0faf30d",
   "metadata": {},
   "outputs": [
    {
     "data": {
      "application/vnd.jupyter.widget-view+json": {
       "model_id": "46447a45919743de9fbd77d830c22c4f",
       "version_major": 2,
       "version_minor": 0
      },
      "text/plain": [
       "VBox(children=(FloatSlider(value=25.0, description='Cohesion (kPa):', layout=Layout(width='50%'), step=1.0, st…"
      ]
     },
     "metadata": {},
     "output_type": "display_data"
    },
    {
     "data": {
      "application/vnd.jupyter.widget-view+json": {
       "model_id": "36065960c4274e8a9aac01e4d06218ea",
       "version_major": 2,
       "version_minor": 0
      },
      "text/plain": [
       "Output()"
      ]
     },
     "metadata": {},
     "output_type": "display_data"
    }
   ],
   "source": [
    "import numpy as np\n",
    "import matplotlib.pyplot as plt\n",
    "import ipywidgets as widgets\n",
    "from IPython.display import display, Markdown\n",
    "\n",
    "# Function to calculate bearing capacity using Terzaghi's method\n",
    "def terzaghi_bearing_capacity(c, gamma, q, B, Nq, Nc, Ngamma):\n",
    "    q_ult = c * Nc + q * Nq + 0.5 * gamma * B * Ngamma\n",
    "    return q_ult\n",
    "\n",
    "# Function to calculate bearing capacity using Meyerhof's method\n",
    "def meyerhof_bearing_capacity(c, gamma, q, B, L, Nq, Nc, Ngamma):\n",
    "    q_ult = c * Nc + q * Nq + 0.5 * gamma * B * Ngamma * (1 + 0.3 * (B / L))\n",
    "    return q_ult\n",
    "\n",
    "# Function to calculate bearing capacity using Hansen's method\n",
    "def hansen_bearing_capacity(c, gamma, q, B, L, Nq, Nc, Ngamma):\n",
    "    sc = 1 + 0.2 * (B / L)\n",
    "    sq = 1 + 0.2 * (B / L)\n",
    "    sgamma = 1 - 0.4 * (B / L)\n",
    "    q_ult = c * Nc * sc + q * Nq * sq + 0.5 * gamma * B * Ngamma * sgamma\n",
    "    return q_ult\n",
    "\n",
    "# Function to interpret bearing capacity results and guide users\n",
    "def interpret_results(terzaghi_q_ult, meyerhof_q_ult, hansen_q_ult):\n",
    "    results = {\n",
    "        \"Terzaghi\": terzaghi_q_ult,\n",
    "        \"Meyerhof\": meyerhof_q_ult,\n",
    "        \"Hansen\": hansen_q_ult\n",
    "    }\n",
    "    \n",
    "    max_capacity = max(results.values())\n",
    "    min_capacity = min(results.values())\n",
    "    \n",
    "    interpretation = \"\"\n",
    "    \n",
    "    if max_capacity == terzaghi_q_ult:\n",
    "        interpretation += \"Terzaghi's method provides the highest bearing capacity.\\n\"\n",
    "    elif max_capacity == meyerhof_q_ult:\n",
    "        interpretation += \"Meyerhof's method provides the highest bearing capacity.\\n\"\n",
    "    elif max_capacity == hansen_q_ult:\n",
    "        interpretation += \"Hansen's method provides the highest bearing capacity.\\n\"\n",
    "    \n",
    "    if min_capacity == terzaghi_q_ult:\n",
    "        interpretation += \"Terzaghi's method provides the lowest bearing capacity.\\n\"\n",
    "    elif min_capacity == meyerhof_q_ult:\n",
    "        interpretation += \"Meyerhof's method provides the lowest bearing capacity.\\n\"\n",
    "    elif min_capacity == hansen_q_ult:\n",
    "        interpretation += \"Hansen's method provides the lowest bearing capacity.\\n\"\n",
    "    \n",
    "    interpretation += \"\\n### Recommendations:\\n\"\n",
    "    \n",
    "    if max_capacity / min_capacity > 1.5:\n",
    "        interpretation += \"- There is a significant difference between the methods. Consider further investigation and validation of soil parameters.\\n\"\n",
    "    else:\n",
    "        interpretation += \"- The methods provide similar results. You can choose any method based on convenience and familiarity.\\n\"\n",
    "    \n",
    "    return interpretation\n",
    "# Interactive widgets for input parameters\n",
    "c_input = widgets.FloatSlider(\n",
    "    value=25,\n",
    "    min=0,\n",
    "    max=100,\n",
    "    step=1,\n",
    "    description='Cohesion (kPa):',\n",
    "    layout=widgets.Layout(width='50%'),\n",
    "    style={'description_width': 'initial'}\n",
    ")\n",
    "\n",
    "gamma_input = widgets.FloatSlider(\n",
    "    value=18,\n",
    "    min=10,\n",
    "    max=25,\n",
    "    step=0.1,\n",
    "    description='Unit Weight (kN/m³):',\n",
    "    layout=widgets.Layout(width='50%'),\n",
    "    style={'description_width': 'initial'}\n",
    ")\n",
    "\n",
    "q_input = widgets.FloatSlider(\n",
    "    value=50,\n",
    "    min=0,\n",
    "    max=200,\n",
    "    step=1,\n",
    "    description='Overburden Pressure (kPa):',\n",
    "    layout=widgets.Layout(width='50%'),\n",
    "    style={'description_width': 'initial'}\n",
    ")\n",
    "\n",
    "B_input = widgets.FloatSlider(\n",
    "    value=2,\n",
    "    min=0.5,\n",
    "    max=10,\n",
    "    step=0.1,\n",
    "    description='Width of Foundation (m):',\n",
    "    layout=widgets.Layout(width='50%'),\n",
    "    style={'description_width': 'initial'}\n",
    ")\n",
    "\n",
    "L_input = widgets.FloatSlider(\n",
    "    value=2,\n",
    "    min=0.5,\n",
    "    max=10,\n",
    "    step=0.1,\n",
    "    description='Length of Foundation (m):',\n",
    "    layout=widgets.Layout(width='50%'),\n",
    "    style={'description_width': 'initial'}\n",
    ")\n",
    "\n",
    "Nq_input = widgets.FloatSlider(\n",
    "    value=20,\n",
    "    min=0,\n",
    "    max=100,\n",
    "    step=1,\n",
    "    description='Nq:',\n",
    "    layout=widgets.Layout(width='50%'),\n",
    "    style={'description_width': 'initial'}\n",
    ")\n",
    "\n",
    "Nc_input = widgets.FloatSlider(\n",
    "    value=30,\n",
    "    min=0,\n",
    "    max=100,\n",
    "    step=1,\n",
    "    description='Nc:',\n",
    "    layout=widgets.Layout(width='50%'),\n",
    "    style={'description_width': 'initial'}\n",
    ")\n",
    "\n",
    "Ngamma_input = widgets.FloatSlider(\n",
    "    value=10,\n",
    "    min=0,\n",
    "    max=100,\n",
    "    step=1,\n",
    "    description='Ngamma:',\n",
    "    layout=widgets.Layout(width='50%'),\n",
    "    style={'description_width': 'initial'}\n",
    ")\n",
    "\n",
    "output = widgets.Output()\n",
    "\n",
    "def update_plot(change=None):\n",
    "    with output:\n",
    "        try:\n",
    "            c = c_input.value\n",
    "            gamma = gamma_input.value\n",
    "            q = q_input.value\n",
    "            B = B_input.value\n",
    "            L = L_input.value\n",
    "            Nq = Nq_input.value\n",
    "            Nc = Nc_input.value\n",
    "            Ngamma = Ngamma_input.value\n",
    "            \n",
    "            # Calculate bearing capacities using different methods\n",
    "            terzaghi_q_ult = terzaghi_bearing_capacity(c, gamma, q, B, Nq, Nc, Ngamma)\n",
    "            meyerhof_q_ult = meyerhof_bearing_capacity(c, gamma, q, B, L, Nq, Nc, Ngamma)\n",
    "            hansen_q_ult = hansen_bearing_capacity(c, gamma, q, B, L, Nq, Nc, Ngamma)\n",
    "            \n",
    "            # Interpret results and guide users\n",
    "            interpretation = interpret_results(terzaghi_q_ult, meyerhof_q_ult, hansen_q_ult)\n",
    "            \n",
    "            # Display results and interpretation\n",
    "            output.clear_output()\n",
    "            display(Markdown(f\"### Bearing Capacity Results\"))\n",
    "            display(Markdown(f\"- **Terzaghi's Method:** {terzaghi_q_ult:.2f} kPa\"))\n",
    "            display(Markdown(f\"- **Meyerhof's Method:** {meyerhof_q_ult:.2f} kPa\"))\n",
    "            display(Markdown(f\"- **Hansen's Method:** {hansen_q_ult:.2f} kPa\"))\n",
    "            display(Markdown(f\"### Interpretation and Recommendations\"))\n",
    "            display(Markdown(interpretation))\n",
    "            \n",
    "        except Exception as e:\n",
    "            output.clear_output()\n",
    "            display(Markdown(f\"❌ **Error:** {e}\"))\n",
    "\n",
    "c_input.observe(update_plot, names='value')\n",
    "gamma_input.observe(update_plot, names='value')\n",
    "q_input.observe(update_plot, names='value')\n",
    "B_input.observe(update_plot, names='value')\n",
    "L_input.observe(update_plot, names='value')\n",
    "Nq_input.observe(update_plot, names='value')\n",
    "Nc_input.observe(update_plot, names='value')\n",
    "Ngamma_input.observe(update_plot, names='value')\n",
    "\n",
    "display(widgets.VBox([c_input, gamma_input, q_input, B_input, L_input, Nq_input, Nc_input, Ngamma_input]), output)\n",
    "update_plot()\n"
   ]
  },
  {
   "cell_type": "markdown",
   "id": "d85bd90c",
   "metadata": {},
   "source": []
  },
  {
   "cell_type": "markdown",
   "id": "8f0db432",
   "metadata": {},
   "source": []
  },
  {
   "cell_type": "code",
   "execution_count": 14,
   "id": "c27f4fc2",
   "metadata": {},
   "outputs": [
    {
     "data": {
      "text/markdown": [
       "### Which of the following parameters is **not** included in Terzaghi’s original bearing capacity equation?"
      ],
      "text/plain": [
       "<IPython.core.display.Markdown object>"
      ]
     },
     "metadata": {},
     "output_type": "display_data"
    },
    {
     "data": {
      "application/vnd.jupyter.widget-view+json": {
       "model_id": "983ce339291e4cd7a9ab7d0440f633e5",
       "version_major": 2,
       "version_minor": 0
      },
      "text/plain": [
       "RadioButtons(layout=Layout(width='max-content'), options=('Cohesion (c)', 'Overburden pressure (q)', 'Length o…"
      ]
     },
     "metadata": {},
     "output_type": "display_data"
    },
    {
     "data": {
      "application/vnd.jupyter.widget-view+json": {
       "model_id": "d2d642174026449c8bf31ccd44ebfd16",
       "version_major": 2,
       "version_minor": 0
      },
      "text/plain": [
       "Button(button_style='info', description='Check Answer', style=ButtonStyle())"
      ]
     },
     "metadata": {},
     "output_type": "display_data"
    },
    {
     "data": {
      "application/vnd.jupyter.widget-view+json": {
       "model_id": "0e277b7b1ad749648ed7fa2f95c5d305",
       "version_major": 2,
       "version_minor": 0
      },
      "text/plain": [
       "Output()"
      ]
     },
     "metadata": {},
     "output_type": "display_data"
    },
    {
     "data": {
      "text/markdown": [
       "### What additional factor does Meyerhof’s method introduce compared to Terzaghi’s?"
      ],
      "text/plain": [
       "<IPython.core.display.Markdown object>"
      ]
     },
     "metadata": {},
     "output_type": "display_data"
    },
    {
     "data": {
      "application/vnd.jupyter.widget-view+json": {
       "model_id": "610a094872d44f0e81e1e7f82544c6b2",
       "version_major": 2,
       "version_minor": 0
      },
      "text/plain": [
       "RadioButtons(layout=Layout(width='max-content'), options=('Soil compressibility', 'Foundation shape and depth'…"
      ]
     },
     "metadata": {},
     "output_type": "display_data"
    },
    {
     "data": {
      "application/vnd.jupyter.widget-view+json": {
       "model_id": "2fedc269ccdb4cd7817f696e363746b7",
       "version_major": 2,
       "version_minor": 0
      },
      "text/plain": [
       "Button(button_style='info', description='Check Answer', style=ButtonStyle())"
      ]
     },
     "metadata": {},
     "output_type": "display_data"
    },
    {
     "data": {
      "application/vnd.jupyter.widget-view+json": {
       "model_id": "2737c486e24f422e809a004fef376a28",
       "version_major": 2,
       "version_minor": 0
      },
      "text/plain": [
       "Output()"
      ]
     },
     "metadata": {},
     "output_type": "display_data"
    },
    {
     "data": {
      "text/markdown": [
       "### Hansen’s method includes which of the following factors in the bearing capacity equation?"
      ],
      "text/plain": [
       "<IPython.core.display.Markdown object>"
      ]
     },
     "metadata": {},
     "output_type": "display_data"
    },
    {
     "data": {
      "application/vnd.jupyter.widget-view+json": {
       "model_id": "09c4223d7f6d47a68e1000a120b572a5",
       "version_major": 2,
       "version_minor": 0
      },
      "text/plain": [
       "RadioButtons(layout=Layout(width='max-content'), options=('Shape, depth, and inclination factors', 'Only shape…"
      ]
     },
     "metadata": {},
     "output_type": "display_data"
    },
    {
     "data": {
      "application/vnd.jupyter.widget-view+json": {
       "model_id": "fb7dfbcebaa448c7ba4ed3aaf7bd18a8",
       "version_major": 2,
       "version_minor": 0
      },
      "text/plain": [
       "Button(button_style='info', description='Check Answer', style=ButtonStyle())"
      ]
     },
     "metadata": {},
     "output_type": "display_data"
    },
    {
     "data": {
      "application/vnd.jupyter.widget-view+json": {
       "model_id": "edcb667847654b29820ccd62f331c3f2",
       "version_major": 2,
       "version_minor": 0
      },
      "text/plain": [
       "Output()"
      ]
     },
     "metadata": {},
     "output_type": "display_data"
    },
    {
     "data": {
      "text/markdown": [
       "### According to the bearing capacity factor table, what is the value of Nq when the internal friction angle φ = 30°?"
      ],
      "text/plain": [
       "<IPython.core.display.Markdown object>"
      ]
     },
     "metadata": {},
     "output_type": "display_data"
    },
    {
     "data": {
      "application/vnd.jupyter.widget-view+json": {
       "model_id": "9e9f9b78019d4418a6b2e3aacceb88ea",
       "version_major": 2,
       "version_minor": 0
      },
      "text/plain": [
       "RadioButtons(layout=Layout(width='max-content'), options=('10.6', '18.4', '27.7', '7.4'), value='10.6')"
      ]
     },
     "metadata": {},
     "output_type": "display_data"
    },
    {
     "data": {
      "application/vnd.jupyter.widget-view+json": {
       "model_id": "5dd0d31146ae4b9592fd494c668166d0",
       "version_major": 2,
       "version_minor": 0
      },
      "text/plain": [
       "Button(button_style='info', description='Check Answer', style=ButtonStyle())"
      ]
     },
     "metadata": {},
     "output_type": "display_data"
    },
    {
     "data": {
      "application/vnd.jupyter.widget-view+json": {
       "model_id": "30b61e96a8f54b09a54d82ef755eadac",
       "version_major": 2,
       "version_minor": 0
      },
      "text/plain": [
       "Output()"
      ]
     },
     "metadata": {},
     "output_type": "display_data"
    },
    {
     "data": {
      "text/markdown": [
       "### In the Python code, what does the function interpret_results() primarily do?"
      ],
      "text/plain": [
       "<IPython.core.display.Markdown object>"
      ]
     },
     "metadata": {},
     "output_type": "display_data"
    },
    {
     "data": {
      "application/vnd.jupyter.widget-view+json": {
       "model_id": "9c642edc21724d14b4c4f6513756307c",
       "version_major": 2,
       "version_minor": 0
      },
      "text/plain": [
       "RadioButtons(layout=Layout(width='max-content'), options=('Calculates the average bearing capacity', 'Compares…"
      ]
     },
     "metadata": {},
     "output_type": "display_data"
    },
    {
     "data": {
      "application/vnd.jupyter.widget-view+json": {
       "model_id": "ef98a20c4584494a9c606621b8ea1f57",
       "version_major": 2,
       "version_minor": 0
      },
      "text/plain": [
       "Button(button_style='info', description='Check Answer', style=ButtonStyle())"
      ]
     },
     "metadata": {},
     "output_type": "display_data"
    },
    {
     "data": {
      "application/vnd.jupyter.widget-view+json": {
       "model_id": "182e7dead9044e488b36d82ac7be38aa",
       "version_major": 2,
       "version_minor": 0
      },
      "text/plain": [
       "Output()"
      ]
     },
     "metadata": {},
     "output_type": "display_data"
    },
    {
     "data": {
      "text/markdown": [
       "### In the simplified Hansen’s method in the code, how is the shape factor sc calculated?"
      ],
      "text/plain": [
       "<IPython.core.display.Markdown object>"
      ]
     },
     "metadata": {},
     "output_type": "display_data"
    },
    {
     "data": {
      "application/vnd.jupyter.widget-view+json": {
       "model_id": "21ca46d4711848698992a9e42f682e7c",
       "version_major": 2,
       "version_minor": 0
      },
      "text/plain": [
       "RadioButtons(layout=Layout(width='max-content'), options=('1 + 0.3 B/L', '1 - 0.4 B/L', '1 + 0.2 B/L', '1 + 0.…"
      ]
     },
     "metadata": {},
     "output_type": "display_data"
    },
    {
     "data": {
      "application/vnd.jupyter.widget-view+json": {
       "model_id": "b4667d3a209543b3821db18799048aff",
       "version_major": 2,
       "version_minor": 0
      },
      "text/plain": [
       "Button(button_style='info', description='Check Answer', style=ButtonStyle())"
      ]
     },
     "metadata": {},
     "output_type": "display_data"
    },
    {
     "data": {
      "application/vnd.jupyter.widget-view+json": {
       "model_id": "a61815a7a19b451ba31abdd7e921b8dd",
       "version_major": 2,
       "version_minor": 0
      },
      "text/plain": [
       "Output()"
      ]
     },
     "metadata": {},
     "output_type": "display_data"
    },
    {
     "data": {
      "text/markdown": [
       "### According to the interpretation logic, when is further investigation recommended?"
      ],
      "text/plain": [
       "<IPython.core.display.Markdown object>"
      ]
     },
     "metadata": {},
     "output_type": "display_data"
    },
    {
     "data": {
      "application/vnd.jupyter.widget-view+json": {
       "model_id": "07093c3ccb654e1498078ec8660e5fbd",
       "version_major": 2,
       "version_minor": 0
      },
      "text/plain": [
       "RadioButtons(layout=Layout(width='max-content'), options=('When all methods give the same result', 'When max/m…"
      ]
     },
     "metadata": {},
     "output_type": "display_data"
    },
    {
     "data": {
      "application/vnd.jupyter.widget-view+json": {
       "model_id": "8ccba530742847298272123e1247ec14",
       "version_major": 2,
       "version_minor": 0
      },
      "text/plain": [
       "Button(button_style='info', description='Check Answer', style=ButtonStyle())"
      ]
     },
     "metadata": {},
     "output_type": "display_data"
    },
    {
     "data": {
      "application/vnd.jupyter.widget-view+json": {
       "model_id": "11a0c88c5f5943428bf9b2589bd95925",
       "version_major": 2,
       "version_minor": 0
      },
      "text/plain": [
       "Output()"
      ]
     },
     "metadata": {},
     "output_type": "display_data"
    },
    {
     "data": {
      "text/markdown": [
       "### What is the effect of increasing the foundation width B on the bearing capacity?"
      ],
      "text/plain": [
       "<IPython.core.display.Markdown object>"
      ]
     },
     "metadata": {},
     "output_type": "display_data"
    },
    {
     "data": {
      "application/vnd.jupyter.widget-view+json": {
       "model_id": "67ea1b72f39d4298afbfbed721fd44d5",
       "version_major": 2,
       "version_minor": 0
      },
      "text/plain": [
       "RadioButtons(layout=Layout(width='max-content'), options=('It decreases the bearing capacity', 'It has no effe…"
      ]
     },
     "metadata": {},
     "output_type": "display_data"
    },
    {
     "data": {
      "application/vnd.jupyter.widget-view+json": {
       "model_id": "1755b9b02efc447ba1de6e95d0836b3b",
       "version_major": 2,
       "version_minor": 0
      },
      "text/plain": [
       "Button(button_style='info', description='Check Answer', style=ButtonStyle())"
      ]
     },
     "metadata": {},
     "output_type": "display_data"
    },
    {
     "data": {
      "application/vnd.jupyter.widget-view+json": {
       "model_id": "ee5f8ffda1a345e79077b8a84736bfeb",
       "version_major": 2,
       "version_minor": 0
      },
      "text/plain": [
       "Output()"
      ]
     },
     "metadata": {},
     "output_type": "display_data"
    },
    {
     "data": {
      "text/markdown": [
       "### Which of the following is **not** an assumption of Terzaghi’s method?"
      ],
      "text/plain": [
       "<IPython.core.display.Markdown object>"
      ]
     },
     "metadata": {},
     "output_type": "display_data"
    },
    {
     "data": {
      "application/vnd.jupyter.widget-view+json": {
       "model_id": "f9ca090fc2164c1fbc9940b691d59f1c",
       "version_major": 2,
       "version_minor": 0
      },
      "text/plain": [
       "RadioButtons(layout=Layout(width='max-content'), options=('Soil is homogeneous and isotropic', 'Load is applie…"
      ]
     },
     "metadata": {},
     "output_type": "display_data"
    },
    {
     "data": {
      "application/vnd.jupyter.widget-view+json": {
       "model_id": "f9298e396aed4d3f8b90ae72d75e4af7",
       "version_major": 2,
       "version_minor": 0
      },
      "text/plain": [
       "Button(button_style='info', description='Check Answer', style=ButtonStyle())"
      ]
     },
     "metadata": {},
     "output_type": "display_data"
    },
    {
     "data": {
      "application/vnd.jupyter.widget-view+json": {
       "model_id": "a5a916b1469643cb903fbfc3c93d84d7",
       "version_major": 2,
       "version_minor": 0
      },
      "text/plain": [
       "Output()"
      ]
     },
     "metadata": {},
     "output_type": "display_data"
    },
    {
     "data": {
      "text/markdown": [
       "### Which method is most suitable for complex soil conditions and inclined loads?"
      ],
      "text/plain": [
       "<IPython.core.display.Markdown object>"
      ]
     },
     "metadata": {},
     "output_type": "display_data"
    },
    {
     "data": {
      "application/vnd.jupyter.widget-view+json": {
       "model_id": "c7eeb73c29a046259271e77287e15b15",
       "version_major": 2,
       "version_minor": 0
      },
      "text/plain": [
       "RadioButtons(layout=Layout(width='max-content'), options=('Terzaghi’s Method', 'Meyerhof’s Method', 'Hansen’s …"
      ]
     },
     "metadata": {},
     "output_type": "display_data"
    },
    {
     "data": {
      "application/vnd.jupyter.widget-view+json": {
       "model_id": "f2a5e8dd08f246ea866cfcffb6e17df7",
       "version_major": 2,
       "version_minor": 0
      },
      "text/plain": [
       "Button(button_style='info', description='Check Answer', style=ButtonStyle())"
      ]
     },
     "metadata": {},
     "output_type": "display_data"
    },
    {
     "data": {
      "application/vnd.jupyter.widget-view+json": {
       "model_id": "df8303279bdd48cea82af4b5cd023a1d",
       "version_major": 2,
       "version_minor": 0
      },
      "text/plain": [
       "Output()"
      ]
     },
     "metadata": {},
     "output_type": "display_data"
    }
   ],
   "source": [
    "import ipywidgets as widgets\n",
    "from IPython.display import display, Markdown, clear_output\n",
    "\n",
    "# Define quiz questions, options, and correct answers\n",
    "quiz_data = [\n",
    "    {\n",
    "        \"question\": \"Which of the following parameters is **not** included in Terzaghi’s original bearing capacity equation?\",\n",
    "        \"options\": [\"Cohesion (c)\", \"Overburden pressure (q)\", \"Length of foundation (L)\", \"Unit weight of soil (γ)\"],\n",
    "        \"answer\": \"Length of foundation (L)\"\n",
    "    },\n",
    "    {\n",
    "        \"question\": \"What additional factor does Meyerhof’s method introduce compared to Terzaghi’s?\",\n",
    "        \"options\": [\"Soil compressibility\", \"Foundation shape and depth\", \"Water table correction\", \"Soil anisotropy\"],\n",
    "        \"answer\": \"Foundation shape and depth\"\n",
    "    },\n",
    "    {\n",
    "        \"question\": \"Hansen’s method includes which of the following factors in the bearing capacity equation?\",\n",
    "        \"options\": [\"Shape, depth, and inclination factors\", \"Only shape and depth factors\", \"Only inclination factors\", \"None of the above\"],\n",
    "        \"answer\": \"Shape, depth, and inclination factors\"\n",
    "    },\n",
    "    {\n",
    "        \"question\": \"According to the bearing capacity factor table, what is the value of Nq when the internal friction angle φ = 30°?\",\n",
    "        \"options\": [\"10.6\", \"18.4\", \"27.7\", \"7.4\"],\n",
    "        \"answer\": \"18.4\"\n",
    "    },\n",
    "    {\n",
    "        \"question\": \"In the Python code, what does the function interpret_results() primarily do?\",\n",
    "        \"options\": [\"Calculates the average bearing capacity\", \"Compares results from different methods and provides recommendations\", \"Plots the bearing capacity values\", \"Adjusts the input parameters\"],\n",
    "        \"answer\": \"Compares results from different methods and provides recommendations\"\n",
    "    },\n",
    "    {\n",
    "        \"question\": \"In the simplified Hansen’s method in the code, how is the shape factor sc calculated?\",\n",
    "        \"options\": [\"1 + 0.3 B/L\", \"1 - 0.4 B/L\", \"1 + 0.2 B/L\", \"1 + 0.5 B/L\"],\n",
    "        \"answer\": \"1 + 0.2 B/L\"\n",
    "    },\n",
    "    {\n",
    "        \"question\": \"According to the interpretation logic, when is further investigation recommended?\",\n",
    "        \"options\": [\"When all methods give the same result\", \"When max/min > 1.5\", \"When max/min < 1.5\", \"When Terzaghi’s method is the lowest\"],\n",
    "        \"answer\": \"When max/min > 1.5\"\n",
    "    },\n",
    "    {\n",
    "        \"question\": \"What is the effect of increasing the foundation width B on the bearing capacity?\",\n",
    "        \"options\": [\"It decreases the bearing capacity\", \"It has no effect\", \"It increases the bearing capacity\", \"It only affects Hansen’s method\"],\n",
    "        \"answer\": \"It increases the bearing capacity\"\n",
    "    },\n",
    "    {\n",
    "        \"question\": \"Which of the following is **not** an assumption of Terzaghi’s method?\",\n",
    "        \"options\": [\"Soil is homogeneous and isotropic\", \"Load is applied eccentrically\", \"Foundation is shallow\", \"Load is vertical and central\"],\n",
    "        \"answer\": \"Load is applied eccentrically\"\n",
    "    },\n",
    "    {\n",
    "        \"question\": \"Which method is most suitable for complex soil conditions and inclined loads?\",\n",
    "        \"options\": [\"Terzaghi’s Method\", \"Meyerhof’s Method\", \"Hansen’s Method\", \"None of the above\"],\n",
    "        \"answer\": \"Hansen’s Method\"\n",
    "    }\n",
    "]\n",
    "\n",
    "# Function to create a widget for each quiz question\n",
    "def create_quiz_widget(question, options, correct_answer):\n",
    "    output = widgets.Output()\n",
    "    radio = widgets.RadioButtons(options=options, layout={'width': 'max-content'})\n",
    "    check_button = widgets.Button(description=\"Check Answer\", button_style='info')\n",
    "\n",
    "    def on_check_clicked(b):\n",
    "        with output:\n",
    "            clear_output()\n",
    "            if radio.value == correct_answer:\n",
    "                display(Markdown(\"✅ **Correct!**\"))\n",
    "            else:\n",
    "                display(Markdown(f\"❌ **Incorrect.** The correct answer is: **{correct_answer}**\"))\n",
    "\n",
    "    check_button.on_click(on_check_clicked)\n",
    "    display(Markdown(f\"### {question}\"))\n",
    "    display(radio, check_button, output)\n",
    "\n",
    "# Display all quiz widgets\n",
    "for q in quiz_data:\n",
    "    create_quiz_widget(q[\"question\"], q[\"options\"], q[\"answer\"])\n"
   ]
  },
  {
   "cell_type": "code",
   "execution_count": 15,
   "id": "52ab50e0",
   "metadata": {},
   "outputs": [
    {
     "data": {
      "text/markdown": [
       "### Reflective Question 1"
      ],
      "text/plain": [
       "<IPython.core.display.Markdown object>"
      ]
     },
     "metadata": {},
     "output_type": "display_data"
    },
    {
     "data": {
      "text/markdown": [
       "Why do different bearing capacity methods (Terzaghi, Meyerhof, Hansen) yield different results for the same soil and foundation conditions?"
      ],
      "text/plain": [
       "<IPython.core.display.Markdown object>"
      ]
     },
     "metadata": {},
     "output_type": "display_data"
    },
    {
     "data": {
      "application/vnd.jupyter.widget-view+json": {
       "model_id": "f98b3259345d40468ed876fa2835fea1",
       "version_major": 2,
       "version_minor": 0
      },
      "text/plain": [
       "Textarea(value='', layout=Layout(height='100px', width='100%'), placeholder='Type your answer here...')"
      ]
     },
     "metadata": {},
     "output_type": "display_data"
    },
    {
     "data": {
      "text/markdown": [
       "### Reflective Question 2"
      ],
      "text/plain": [
       "<IPython.core.display.Markdown object>"
      ]
     },
     "metadata": {},
     "output_type": "display_data"
    },
    {
     "data": {
      "text/markdown": [
       "How would you decide which method to use in a real-world project?"
      ],
      "text/plain": [
       "<IPython.core.display.Markdown object>"
      ]
     },
     "metadata": {},
     "output_type": "display_data"
    },
    {
     "data": {
      "application/vnd.jupyter.widget-view+json": {
       "model_id": "0e63085291634f7393d5348ecd8c90c4",
       "version_major": 2,
       "version_minor": 0
      },
      "text/plain": [
       "Textarea(value='', layout=Layout(height='100px', width='100%'), placeholder='Type your answer here...')"
      ]
     },
     "metadata": {},
     "output_type": "display_data"
    },
    {
     "data": {
      "text/markdown": [
       "### Reflective Question 3"
      ],
      "text/plain": [
       "<IPython.core.display.Markdown object>"
      ]
     },
     "metadata": {},
     "output_type": "display_data"
    },
    {
     "data": {
      "text/markdown": [
       "What are the potential consequences of overestimating vs. underestimating bearing capacity in foundation design?"
      ],
      "text/plain": [
       "<IPython.core.display.Markdown object>"
      ]
     },
     "metadata": {},
     "output_type": "display_data"
    },
    {
     "data": {
      "application/vnd.jupyter.widget-view+json": {
       "model_id": "7db791c693c740d78dfb50c0bac74e28",
       "version_major": 2,
       "version_minor": 0
      },
      "text/plain": [
       "Textarea(value='', layout=Layout(height='100px', width='100%'), placeholder='Type your answer here...')"
      ]
     },
     "metadata": {},
     "output_type": "display_data"
    },
    {
     "data": {
      "text/markdown": [
       "### Reflective Question 4"
      ],
      "text/plain": [
       "<IPython.core.display.Markdown object>"
      ]
     },
     "metadata": {},
     "output_type": "display_data"
    },
    {
     "data": {
      "text/markdown": [
       "How does the inclusion of shape, depth, and inclination factors in Hansen’s method improve the accuracy of bearing capacity predictions?"
      ],
      "text/plain": [
       "<IPython.core.display.Markdown object>"
      ]
     },
     "metadata": {},
     "output_type": "display_data"
    },
    {
     "data": {
      "application/vnd.jupyter.widget-view+json": {
       "model_id": "3099d6a9418c4b1e8573ad8bb712af6f",
       "version_major": 2,
       "version_minor": 0
      },
      "text/plain": [
       "Textarea(value='', layout=Layout(height='100px', width='100%'), placeholder='Type your answer here...')"
      ]
     },
     "metadata": {},
     "output_type": "display_data"
    },
    {
     "data": {
      "text/markdown": [
       "### Reflective Question 5"
      ],
      "text/plain": [
       "<IPython.core.display.Markdown object>"
      ]
     },
     "metadata": {},
     "output_type": "display_data"
    },
    {
     "data": {
      "text/markdown": [
       "How would you validate the soil parameters (e.g., cohesion, unit weight, friction angle) used in bearing capacity calculations?"
      ],
      "text/plain": [
       "<IPython.core.display.Markdown object>"
      ]
     },
     "metadata": {},
     "output_type": "display_data"
    },
    {
     "data": {
      "application/vnd.jupyter.widget-view+json": {
       "model_id": "ebb8dc4078ef4a3dbd95765b04c0207f",
       "version_major": 2,
       "version_minor": 0
      },
      "text/plain": [
       "Textarea(value='', layout=Layout(height='100px', width='100%'), placeholder='Type your answer here...')"
      ]
     },
     "metadata": {},
     "output_type": "display_data"
    },
    {
     "data": {
      "text/markdown": [
       "### Reflective Question 6"
      ],
      "text/plain": [
       "<IPython.core.display.Markdown object>"
      ]
     },
     "metadata": {},
     "output_type": "display_data"
    },
    {
     "data": {
      "text/markdown": [
       "Explain the physical meaning of each term in Terzaghi’s bearing capacity equation."
      ],
      "text/plain": [
       "<IPython.core.display.Markdown object>"
      ]
     },
     "metadata": {},
     "output_type": "display_data"
    },
    {
     "data": {
      "application/vnd.jupyter.widget-view+json": {
       "model_id": "edba5e95171842cfb024ca17b491c8f6",
       "version_major": 2,
       "version_minor": 0
      },
      "text/plain": [
       "Textarea(value='', layout=Layout(height='100px', width='100%'), placeholder='Type your answer here...')"
      ]
     },
     "metadata": {},
     "output_type": "display_data"
    },
    {
     "data": {
      "text/markdown": [
       "### Reflective Question 7"
      ],
      "text/plain": [
       "<IPython.core.display.Markdown object>"
      ]
     },
     "metadata": {},
     "output_type": "display_data"
    },
    {
     "data": {
      "text/markdown": [
       "What is the role of the bearing capacity factors Nc, Nq, and Nγ? How do they relate to the internal friction angle φ?"
      ],
      "text/plain": [
       "<IPython.core.display.Markdown object>"
      ]
     },
     "metadata": {},
     "output_type": "display_data"
    },
    {
     "data": {
      "application/vnd.jupyter.widget-view+json": {
       "model_id": "5baa4c319e3946018b4a54a6b035ca48",
       "version_major": 2,
       "version_minor": 0
      },
      "text/plain": [
       "Textarea(value='', layout=Layout(height='100px', width='100%'), placeholder='Type your answer here...')"
      ]
     },
     "metadata": {},
     "output_type": "display_data"
    },
    {
     "data": {
      "text/markdown": [
       "### Reflective Question 8"
      ],
      "text/plain": [
       "<IPython.core.display.Markdown object>"
      ]
     },
     "metadata": {},
     "output_type": "display_data"
    },
    {
     "data": {
      "text/markdown": [
       "Why is the width of the foundation (B) included in the bearing capacity equations?"
      ],
      "text/plain": [
       "<IPython.core.display.Markdown object>"
      ]
     },
     "metadata": {},
     "output_type": "display_data"
    },
    {
     "data": {
      "application/vnd.jupyter.widget-view+json": {
       "model_id": "646713c1f627444a8790351c355be6f0",
       "version_major": 2,
       "version_minor": 0
      },
      "text/plain": [
       "Textarea(value='', layout=Layout(height='100px', width='100%'), placeholder='Type your answer here...')"
      ]
     },
     "metadata": {},
     "output_type": "display_data"
    },
    {
     "data": {
      "text/markdown": [
       "### Reflective Question 9"
      ],
      "text/plain": [
       "<IPython.core.display.Markdown object>"
      ]
     },
     "metadata": {},
     "output_type": "display_data"
    },
    {
     "data": {
      "text/markdown": [
       "Compare the assumptions made in Terzaghi’s method with those in Meyerhof’s and Hansen’s."
      ],
      "text/plain": [
       "<IPython.core.display.Markdown object>"
      ]
     },
     "metadata": {},
     "output_type": "display_data"
    },
    {
     "data": {
      "application/vnd.jupyter.widget-view+json": {
       "model_id": "9da7e42e22954e3181f7ea6bed12cb1f",
       "version_major": 2,
       "version_minor": 0
      },
      "text/plain": [
       "Textarea(value='', layout=Layout(height='100px', width='100%'), placeholder='Type your answer here...')"
      ]
     },
     "metadata": {},
     "output_type": "display_data"
    },
    {
     "data": {
      "text/markdown": [
       "### Reflective Question 10"
      ],
      "text/plain": [
       "<IPython.core.display.Markdown object>"
      ]
     },
     "metadata": {},
     "output_type": "display_data"
    },
    {
     "data": {
      "text/markdown": [
       "How would the presence of groundwater near the foundation level affect bearing capacity?"
      ],
      "text/plain": [
       "<IPython.core.display.Markdown object>"
      ]
     },
     "metadata": {},
     "output_type": "display_data"
    },
    {
     "data": {
      "application/vnd.jupyter.widget-view+json": {
       "model_id": "2a36406dbf094be69f2a07d29d5b1b88",
       "version_major": 2,
       "version_minor": 0
      },
      "text/plain": [
       "Textarea(value='', layout=Layout(height='100px', width='100%'), placeholder='Type your answer here...')"
      ]
     },
     "metadata": {},
     "output_type": "display_data"
    }
   ],
   "source": [
    "import ipywidgets as widgets\n",
    "from IPython.display import display, Markdown\n",
    "\n",
    "# Define reflective and conceptual questions\n",
    "questions = [\n",
    "    \"Why do different bearing capacity methods (Terzaghi, Meyerhof, Hansen) yield different results for the same soil and foundation conditions?\",\n",
    "    \"How would you decide which method to use in a real-world project?\",\n",
    "    \"What are the potential consequences of overestimating vs. underestimating bearing capacity in foundation design?\",\n",
    "    \"How does the inclusion of shape, depth, and inclination factors in Hansen’s method improve the accuracy of bearing capacity predictions?\",\n",
    "    \"How would you validate the soil parameters (e.g., cohesion, unit weight, friction angle) used in bearing capacity calculations?\",\n",
    "    \"Explain the physical meaning of each term in Terzaghi’s bearing capacity equation.\",\n",
    "    \"What is the role of the bearing capacity factors Nc, Nq, and Nγ? How do they relate to the internal friction angle φ?\",\n",
    "    \"Why is the width of the foundation (B) included in the bearing capacity equations?\",\n",
    "    \"Compare the assumptions made in Terzaghi’s method with those in Meyerhof’s and Hansen’s.\",\n",
    "    \"How would the presence of groundwater near the foundation level affect bearing capacity?\"\n",
    "]\n",
    "\n",
    "# Display each question with a text area for user input\n",
    "for i, q in enumerate(questions, 1):\n",
    "    display(Markdown(f\"### Reflective Question {i}\"))\n",
    "    display(Markdown(q))\n",
    "    display(widgets.Textarea(\n",
    "        placeholder='Type your answer here...',\n",
    "        layout=widgets.Layout(width='100%', height='100px')\n",
    "    ))\n"
   ]
  },
  {
   "cell_type": "code",
   "execution_count": null,
   "id": "07fecb6a",
   "metadata": {},
   "outputs": [],
   "source": []
  }
 ],
 "metadata": {
  "kernelspec": {
   "display_name": "Python 3 (ipykernel)",
   "language": "python",
   "name": "python3"
  },
  "language_info": {
   "codemirror_mode": {
    "name": "ipython",
    "version": 3
   },
   "file_extension": ".py",
   "mimetype": "text/x-python",
   "name": "python",
   "nbconvert_exporter": "python",
   "pygments_lexer": "ipython3",
   "version": "3.9.13"
  }
 },
 "nbformat": 4,
 "nbformat_minor": 5
}
