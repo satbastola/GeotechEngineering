{
 "cells": [
  {
   "cell_type": "markdown",
   "id": "9364a313",
   "metadata": {},
   "source": [
    "### **Particle Size Distribution (PSD)**\n",
    "\n",
    "**Definition**: Particle size distribution refers to the range and frequency of particle sizes in a given sample. It is typically represented as a list of values or a mathematical function that defines the relative amount of particles present according to size.\n",
    "\n",
    "### **Importance of Particle Size Distribution**\n",
    "- **Quality and Performance**: Particle size influences many properties of particulate materials, such as flow, compaction, dissolution rates, and stability of suspensions and emulsions.\n",
    "- **Applications**: PSD is crucial in various industries, including pharmaceuticals, food, cosmetics, and materials science, where controlling particle size can affect product quality and efficacy.\n",
    "\n",
    "### **Measurement Techniques**\n",
    "1. **Laser Diffraction**: Uses laser light scattering to measure particle size.\n",
    "2. **Dynamic Light Scattering**: Measures fluctuations in light scattering due to particle movement.\n",
    "3. **Image Analysis**: Captures images of particles and analyzes their size and shape.\n",
    "4. **Centrifugal Sedimentation**: Measures particle size based on their sedimentation rate in a liquid.\n",
    "\n",
    "### **Interpreting PSD Data**\n",
    "- **Central Values**: Mean, median, and mode are used\n",
    "\n",
    "\n",
    "# 🧪 Interactive Particle Size Distribution (PSD) Tool\n",
    "\n",
    "This notebook provides an interactive tool for analyzing **Particle Size Distribution (PSD)** in soil mechanics. It is designed for educational use and includes:\n",
    "\n",
    "- 📥 Input fields for sieve sizes and percent passing\n",
    "- 📊 Real-time PSD curve plotting\n",
    "- 📐 Calculation of D10, D30, D60\n",
    "- 📈 Coefficients of Uniformity (Cu) and Curvature (Cc)\n",
    "- 🧠 Soil gradation hints based on Cu and Cc\n",
    "\n",
    "---\n"
   ]
  },
  {
   "cell_type": "code",
   "execution_count": 4,
   "id": "b778097c",
   "metadata": {},
   "outputs": [],
   "source": []
  },
  {
   "cell_type": "code",
   "execution_count": 11,
   "id": "a6a88a4a",
   "metadata": {},
   "outputs": [],
   "source": []
  },
  {
   "cell_type": "code",
   "execution_count": 10,
   "id": "ac51e762",
   "metadata": {},
   "outputs": [
    {
     "data": {
      "application/vnd.jupyter.widget-view+json": {
       "model_id": "cee80c503cb84c8aa35ed2f28a234bb2",
       "version_major": 2,
       "version_minor": 0
      },
      "text/plain": [
       "VBox(children=(Text(value='4.75, 2.0, 1.0, 0.425, 0.25, 0.075', description='Sieve Sizes (mm):', layout=Layout…"
      ]
     },
     "metadata": {},
     "output_type": "display_data"
    },
    {
     "data": {
      "application/vnd.jupyter.widget-view+json": {
       "model_id": "aa9369e464674808a43135648bbfb1b1",
       "version_major": 2,
       "version_minor": 0
      },
      "text/plain": [
       "Output()"
      ]
     },
     "metadata": {},
     "output_type": "display_data"
    },
    {
     "name": "stdout",
     "output_type": "stream",
     "text": [
      "D10 (mm): 0.075\n",
      "D30 (mm): 0.25\n",
      "D60 (mm): 0.712\n",
      "Cu: 9.5\n",
      "Cc: 1.17\n",
      "Percent Fines: 10\n",
      "Classification: Well-graded sand (SW)\n"
     ]
    }
   ],
   "source": [
    "import numpy as np\n",
    "import plotly.graph_objects as go\n",
    "import ipywidgets as widgets\n",
    "from IPython.display import display, Markdown\n",
    "\n",
    "def compute_d_values(sieve_sizes, percent_passing):\n",
    "    D10 = np.interp(10, percent_passing[::-1], sieve_sizes[::-1])\n",
    "    D30 = np.interp(30, percent_passing[::-1], sieve_sizes[::-1])\n",
    "    D60 = np.interp(60, percent_passing[::-1], sieve_sizes[::-1])\n",
    "    return D10, D30, D60\n",
    "\n",
    "def plot_psd(sieve_sizes, percent_passing, D10, D30, D60):\n",
    "    fig = go.Figure()\n",
    "    fig.add_trace(go.Scatter(x=sieve_sizes, y=percent_passing, mode='lines+markers', name='PSD Curve'))\n",
    "    fig.add_trace(go.Scatter(x=[D10], y=[10], mode='markers+text', name='D10',\n",
    "                             text=[\"D10\"], textposition=\"top center\", marker=dict(size=10, color='red')))\n",
    "    fig.add_trace(go.Scatter(x=[D30], y=[30], mode='markers+text', name='D30',\n",
    "                             text=[\"D30\"], textposition=\"top center\", marker=dict(size=10, color='green')))\n",
    "    fig.add_trace(go.Scatter(x=[D60], y=[60], mode='markers+text', name='D60',\n",
    "                             text=[\"D60\"], textposition=\"top center\", marker=dict(size=10, color='blue')))\n",
    "    fig.update_layout(title='Particle Size Distribution Curve',\n",
    "                      xaxis_title='Sieve Size (mm)',\n",
    "                      yaxis_title='Percent Passing (%)',\n",
    "                      xaxis_type='log',\n",
    "                      xaxis=dict(autorange='reversed'),\n",
    "                      yaxis=dict(autorange='reversed'),\n",
    "                      width=800, height=500)\n",
    "    fig.show()\n",
    "\n",
    "def classify_soil_by_gradation(Cu, Cc):\n",
    "    if Cu >= 4 and 1 <= Cc <= 3:\n",
    "        return \"Well-graded gravel (GW)\"\n",
    "    elif Cu >= 6 and 1 <= Cc <= 3:\n",
    "        return \"Well-graded sand (SW)\"\n",
    "    else:\n",
    "        return \"Poorly graded soil (GP/SP)\"\n",
    "\n",
    "sieve_input = widgets.Text(\n",
    "    value='4.75, 2.0, 1.0, 0.425, 0.25, 0.075',\n",
    "    description='Sieve Sizes (mm):',\n",
    "    layout=widgets.Layout(width='100%'),\n",
    "    style={'description_width': 'initial'}\n",
    ")\n",
    "\n",
    "passing_input = widgets.Text(\n",
    "    value='100, 90, 70, 50, 30, 10',\n",
    "    description='Percent Passing (%):',\n",
    "    layout=widgets.Layout(width='100%'),\n",
    "    style={'description_width': 'initial'}\n",
    ")\n",
    "\n",
    "output = widgets.Output()\n",
    "\n",
    "def update_plot(change=None):\n",
    "    output.clear_output()\n",
    "    with output:\n",
    "        try:\n",
    "            sieve_sizes = np.array([float(x.strip()) for x in sieve_input.value.split(',')])\n",
    "            percent_passing = np.array([float(x.strip()) for x in passing_input.value.split(',')])\n",
    "            if len(sieve_sizes) != len(percent_passing):\n",
    "                display(Markdown(\"❌ **Error:** Number of sieve sizes and percent passing values must match.\"))\n",
    "                return\n",
    "            sorted_indices = np.argsort(sieve_sizes)[::-1]\n",
    "            sieve_sizes = sieve_sizes[sorted_indices]\n",
    "            percent_passing = percent_passing[sorted_indices]\n",
    "            D10, D30, D60 = compute_d_values(sieve_sizes, percent_passing)\n",
    "            Cu = D60 / D10 if D10 != 0 else np.nan\n",
    "            Cc = (D30**2) / (D10 * D60) if D10 != 0 and D60 != 0 else np.nan\n",
    "            classification = classify_soil_by_gradation(Cu, Cc)\n",
    "            display(Markdown(f\"### 📐 Calculated Parameters\"))\n",
    "            display(Markdown(f\"- **D10:** {D10:.3f} mm  - **D30:** {D30:.3f} mm  - **D60:** {D60:.3f} mm\"))\n",
    "            display(Markdown(f\"- **Coefficient of Uniformity (Cu):** {Cu:.2f}  - **Coefficient of Curvature (Cc):** {Cc:.2f}\"))\n",
    "            display(Markdown(f\"### 🧠 Soil Gradation Hint: **{classification}**\"))\n",
    "            plot_psd(sieve_sizes, percent_passing, D10, D30, D60)\n",
    "        except Exception as e:\n",
    "            display(Markdown(f\"❌ **Error:** {e}\"))\n",
    "\n",
    "sieve_input.observe(update_plot, names='value')\n",
    "passing_input.observe(update_plot, names='value')\n",
    "\n",
    "display(widgets.VBox([sieve_input, passing_input]), output)\n",
    "update_plot()\n",
    "\n",
    "\n",
    "import numpy as np\n",
    "\n",
    "def classify_soil_from_psd(sieve_sizes, percent_passing):\n",
    "    sorted_indices = np.argsort(sieve_sizes)[::-1]\n",
    "    sieve_sizes = np.array(sieve_sizes)[sorted_indices]\n",
    "    percent_passing = np.array(percent_passing)[sorted_indices]\n",
    "\n",
    "    D10 = np.interp(10, percent_passing[::-1], sieve_sizes[::-1])\n",
    "    D30 = np.interp(30, percent_passing[::-1], sieve_sizes[::-1])\n",
    "    D60 = np.interp(60, percent_passing[::-1], sieve_sizes[::-1])\n",
    "\n",
    "    Cu = D60 / D10 if D10 != 0 else np.nan\n",
    "    Cc = (D30 ** 2) / (D10 * D60) if D10 != 0 and D60 != 0 else np.nan\n",
    "\n",
    "    fines_index = np.where(np.array(sieve_sizes) <= 0.075)[0]\n",
    "    percent_fines = percent_passing[fines_index[0]] if fines_index.size > 0 else 0\n",
    "\n",
    "    if percent_fines > 50:\n",
    "        classification = \"Fine-grained soil (Use Atterberg limits for further classification)\"\n",
    "    elif percent_fines > 12:\n",
    "        classification = \"Coarse-grained soil with fines (e.g., SC, SM, GC, GM)\"\n",
    "    else:\n",
    "        if D10 == 0 or D60 == 0:\n",
    "            classification = \"Insufficient data for classification\"\n",
    "        elif Cu >= 4 and 1 <= Cc <= 3:\n",
    "            classification = \"Well-graded gravel (GW)\" if sieve_sizes[0] > 4.75 else \"Well-graded sand (SW)\"\n",
    "        else:\n",
    "            classification = \"Poorly graded gravel (GP)\" if sieve_sizes[0] > 4.75 else \"Poorly graded sand (SP)\"\n",
    "\n",
    "    return {\n",
    "        'D10 (mm)': round(D10, 3),\n",
    "        'D30 (mm)': round(D30, 3),\n",
    "        'D60 (mm)': round(D60, 3),\n",
    "        'Cu': round(Cu, 2),\n",
    "        'Cc': round(Cc, 2),\n",
    "        'Percent Fines': round(percent_fines, 1),\n",
    "        'Classification': classification\n",
    "    }\n",
    "\n",
    "# Example dataset\n",
    "sieve_sizes = [4.75, 2.0, 1.0, 0.425, 0.25, 0.075]\n",
    "percent_passing = [100, 90, 70, 50, 30, 10]\n",
    "\n",
    "# Run classification\n",
    "result = classify_soil_from_psd(sieve_sizes, percent_passing)\n",
    "\n",
    "# Display results\n",
    "for key, value in result.items():\n",
    "    print(f\"{key}: {value}\")\n"
   ]
  },
  {
   "cell_type": "markdown",
   "id": "53b31a8c",
   "metadata": {},
   "source": [
    "## Reflective Questions\n",
    "\n",
    "1. **How does particle size distribution affect the properties of materials in different industries?**\n",
    "2. **What are the advantages and limitations of different particle size measurement techniques?**\n",
    "3. **How can understanding particle size distribution improve product quality and performance?**\n",
    "4. **What challenges might arise when interpreting particle size distribution data?**\n",
    "\n",
    "## Conceptual Questions\n",
    "\n",
    "1. **Define particle size distribution and explain its significance in material science.**\n",
    "2. **Describe the process of laser diffraction and how it is used to measure particle size.**\n",
    "3. **Explain the importance of D10, D30, and D60 values in particle size distribution analysis.**\n",
    "4. **What is the difference between well-graded and poorly graded soils? How are these classifications determined?**\n",
    "\n",
    "## Quiz\n",
    "\n",
    "\n"
   ]
  },
  {
   "cell_type": "code",
   "execution_count": 13,
   "id": "9e75a2d6",
   "metadata": {},
   "outputs": [
    {
     "data": {
      "application/vnd.jupyter.widget-view+json": {
       "model_id": "58bcb5f833cc447db7f917af4e2de0b9",
       "version_major": 2,
       "version_minor": 0
      },
      "text/plain": [
       "VBox(children=(VBox(children=(HTML(value='<b>What does D10 represent in particle size distribution?</b>'), Rad…"
      ]
     },
     "metadata": {},
     "output_type": "display_data"
    },
    {
     "data": {
      "application/vnd.jupyter.widget-view+json": {
       "model_id": "e3a589e88c1b42e3af5d934129b28ee4",
       "version_major": 2,
       "version_minor": 0
      },
      "text/plain": [
       "Button(description='Submit Answers', style=ButtonStyle())"
      ]
     },
     "metadata": {},
     "output_type": "display_data"
    },
    {
     "data": {
      "application/vnd.jupyter.widget-view+json": {
       "model_id": "abcbcc4b732c43f885507b494d6fd02d",
       "version_major": 2,
       "version_minor": 0
      },
      "text/plain": [
       "Output()"
      ]
     },
     "metadata": {},
     "output_type": "display_data"
    }
   ],
   "source": [
    "\n",
    "import numpy as np\n",
    "import ipywidgets as widgets\n",
    "from IPython.display import display, Markdown\n",
    "\n",
    "# Quiz Questions\n",
    "questions = [\n",
    "    {\n",
    "        \"question\": \"What does D10 represent in particle size distribution?\",\n",
    "        \"options\": [\"The diameter at which 10% of the sample's mass is finer\", \"The diameter at which 10% of the sample's mass is coarser\", \"The average particle size\", \"The largest particle size\"],\n",
    "        \"answer\": \"The diameter at which 10% of the sample's mass is finer\"\n",
    "    },\n",
    "    {\n",
    "        \"question\": \"Which technique uses laser light scattering to measure particle size?\",\n",
    "        \"options\": [\"Dynamic Light Scattering\", \"Laser Diffraction\", \"Image Analysis\", \"Centrifugal Sedimentation\"],\n",
    "        \"answer\": \"Laser Diffraction\"\n",
    "    },\n",
    "    {\n",
    "        \"question\": \"What is the Coefficient of Uniformity (Cu) used for?\",\n",
    "        \"options\": [\"To determine the average particle size\", \"To classify the soil gradation\", \"To measure the particle shape\", \"To calculate the particle density\"],\n",
    "        \"answer\": \"To classify the soil gradation\"\n",
    "    },\n",
    "    {\n",
    "        \"question\": \"What does a high percentage of fines indicate about the soil?\",\n",
    "        \"options\": [\"The soil is well-graded\", \"The soil is poorly graded\", \"The soil is fine-grained\", \"The soil is coarse-grained\"],\n",
    "        \"answer\": \"The soil is fine-grained\"\n",
    "    }\n",
    "]\n",
    "\n",
    "# Function to create quiz\n",
    "def create_quiz(questions):\n",
    "    quiz_widgets = []\n",
    "    for q in questions:\n",
    "        question_widget = widgets.VBox([\n",
    "            widgets.HTML(value=f\"<b>{q['question']}</b>\"),\n",
    "            widgets.RadioButtons(options=q['options'], layout={'width': 'max-content'})\n",
    "        ])\n",
    "        quiz_widgets.append(question_widget)\n",
    "    return quiz_widgets\n",
    "\n",
    "# Function to check answers\n",
    "def check_answers(quiz_widgets, questions):\n",
    "    score = 0\n",
    "    for i, widget in enumerate(quiz_widgets):\n",
    "        selected = widget.children[1].value\n",
    "        if selected == questions[i]['answer']:\n",
    "            score += 1\n",
    "    return score\n",
    "\n",
    "# Display quiz\n",
    "quiz_widgets = create_quiz(questions)\n",
    "display(widgets.VBox(quiz_widgets))\n",
    "\n",
    "# Button to submit answers\n",
    "submit_button = widgets.Button(description=\"Submit Answers\")\n",
    "output = widgets.Output()\n",
    "\n",
    "def on_submit(b):\n",
    "    with output:\n",
    "        output.clear_output()\n",
    "        score = check_answers(quiz_widgets, questions)\n",
    "        display(Markdown(f\"### Your Score: {score}/{len(questions)}\"))\n",
    "\n",
    "submit_button.on_click(on_submit)\n",
    "display(submit_button, output)"
   ]
  },
  {
   "cell_type": "code",
   "execution_count": null,
   "id": "849bb096",
   "metadata": {},
   "outputs": [],
   "source": []
  }
 ],
 "metadata": {
  "kernelspec": {
   "display_name": "Python 3 (ipykernel)",
   "language": "python",
   "name": "python3"
  },
  "language_info": {
   "codemirror_mode": {
    "name": "ipython",
    "version": 3
   },
   "file_extension": ".py",
   "mimetype": "text/x-python",
   "name": "python",
   "nbconvert_exporter": "python",
   "pygments_lexer": "ipython3",
   "version": "3.9.13"
  }
 },
 "nbformat": 4,
 "nbformat_minor": 5
}
