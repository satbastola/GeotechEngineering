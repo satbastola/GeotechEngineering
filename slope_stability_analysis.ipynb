{
 "cells": [
  {
   "cell_type": "markdown",
   "id": "f4608ebc",
   "metadata": {},
   "source": [
    "# 🧱 Bishop's Method of Slope Stability Analysis\n",
    "\n",
    "\n",
    "---\n",
    "\n",
    "## 📘 Introduction\n",
    "\n",
    "**Bishop’s Simplified Method** is a widely used technique in geotechnical engineering for evaluating the **Factor of Safety (FS)** of slopes. It assumes a **circular failure surface** and divides the soil mass above this surface into **vertical slices**.\n",
    "\n",
    "---\n",
    "\n",
    "## 🧠 Key Assumptions\n",
    "\n",
    "1. The failure surface is **circular**.\n",
    "2. Each slice is acted upon by:\n",
    "   - **Weight (W)**\n",
    "   - **Normal force (N)**\n",
    "   - **Shear force (S)**\n",
    "   - **Interslice forces (E<sub>left</sub>, E<sub>right</sub>)** — only vertical components are considered.\n",
    "3. Pore water pressure and external loads can be included.\n",
    "4. Moment equilibrium is not used; only **force equilibrium** is applied.\n",
    "\n",
    "---\n",
    "\n",
    "## 🧮 Governing Equation\n",
    "\n",
    "The **Factor of Safety (FS)** is calculated iteratively using:\n",
    "\n",
    "$$\n",
    "FS = \\frac{ \\sum \\left[ c' \\cdot b + (W - u \\cdot b) \\cdot \\tan(\\\\phi') \\right] \\cdot \\frac{\\\\cos(\\\\alpha)}{1 + \\frac{\\\\tan(\\\\phi') \\cdot \\\\tan(\\\\alpha)}{FS}} }{ \\sum W \\cdot \\\\sin(\\\\alpha) }\n",
    "$$\n",
    "\n",
    "Where:\n",
    "- \\( c' \\): effective cohesion  \n",
    "- \\( \\\\phi' \\): effective friction angle  \n",
    "- \\( W \\): weight of slice  \n",
    "- \\( u \\): pore water pressure  \n",
    "- \\( b \\): width of slice  \n",
    "- \\( \\\\alpha \\): inclination of base of slice  \n",
    "\n",
    "---\n",
    "\n",
    "## 🔄 Variants of Bishop's Method\n",
    "\n",
    "| Variant             | Description                                      |\n",
    "|---------------------|--------------------------------------------------|\n",
    "| **Bishop Simplified** | Ignores interslice shear forces (most common)   |\n",
    "| **Bishop Rigorous**   | Includes full interslice force equilibrium      |\n",
    "\n",
    "---\n",
    "\n",
    "\n",
    "\n",
    "## 📚 Summary\n",
    "\n",
    "Bishop’s method offers a balance between **simplicity** and **accuracy**, making it ideal for many practical slope stability problems. For more complex geometries or loading conditions, advanced methods like Spencer or Morgenstern-Price may be preferred.\n"
   ]
  },
  {
   "cell_type": "code",
   "execution_count": null,
   "id": "43840116",
   "metadata": {},
   "outputs": [],
   "source": [
    "# Bishop method"
   ]
  },
  {
   "cell_type": "code",
   "execution_count": 9,
   "id": "c4cc9d74",
   "metadata": {},
   "outputs": [
    {
     "data": {
      "application/vnd.jupyter.widget-view+json": {
       "model_id": "8e08620821ee48d9abf833bef431299d",
       "version_major": 2,
       "version_minor": 0
      },
      "text/plain": [
       "VBox(children=(FloatSlider(value=10.0, description='Cohesion (kPa)', max=50.0, step=1.0), FloatSlider(value=30…"
      ]
     },
     "metadata": {},
     "output_type": "display_data"
    },
    {
     "data": {
      "application/vnd.jupyter.widget-view+json": {
       "model_id": "22af4715fc4f4f249d51c1f607b413ea",
       "version_major": 2,
       "version_minor": 0
      },
      "text/plain": [
       "Output()"
      ]
     },
     "metadata": {},
     "output_type": "display_data"
    }
   ],
   "source": [
    "import numpy as np\n",
    "import matplotlib.pyplot as plt\n",
    "import ipywidgets as widgets\n",
    "from IPython.display import display, Markdown, clear_output\n",
    "\n",
    "# Bishop's simplified method for factor of safety\n",
    "def bishop_fs(c, phi, gamma, slope_height, slope_angle, slices=10):\n",
    "    beta_rad = np.radians(slope_angle)\n",
    "    phi_rad = np.radians(phi)\n",
    "    width = slope_height / np.tan(beta_rad)\n",
    "    dx = width / slices\n",
    "    fs = 1.5  # initial guess\n",
    "    for _ in range(20):  # Iterative solution\n",
    "        numerator_sum = 0\n",
    "        denominator_sum = 0\n",
    "        for i in range(slices):\n",
    "            x = dx * (i + 0.5)\n",
    "            height = slope_height * (1 - x / width)\n",
    "            weight = gamma * dx * height\n",
    "            alpha = beta_rad\n",
    "            m_alpha = np.tan(phi_rad)\n",
    "            normal = weight * np.cos(alpha)\n",
    "            shear = weight * np.sin(alpha)\n",
    "            numerator = c * dx + (normal * m_alpha)\n",
    "            denominator = shear + (normal * m_alpha * np.tan(alpha) / fs)\n",
    "            numerator_sum += numerator\n",
    "            denominator_sum += denominator\n",
    "        fs_new = numerator_sum / denominator_sum\n",
    "        if abs(fs_new - fs) < 1e-4:\n",
    "            break\n",
    "        fs = fs_new\n",
    "    return fs\n",
    "\n",
    "# Plot slope and failure surface\n",
    "def plot_bishop_geometry(slope_height, slope_angle_deg, fs_value):\n",
    "    slope_angle = np.radians(slope_angle_deg)\n",
    "    slope_width = slope_height / np.tan(slope_angle)\n",
    "\n",
    "    # Slope surface\n",
    "    x_slope = [0, slope_width, slope_width]\n",
    "    y_slope = [slope_height, 0, 0]\n",
    "\n",
    "    # Failure arc\n",
    "    toe_x = slope_width\n",
    "    toe_y = 0\n",
    "    crest_x = slope_width * 0.2\n",
    "    crest_y = slope_height * (1 - crest_x / slope_width)\n",
    "\n",
    "    def circle_from_points(p1, p2, angle):\n",
    "        mid_x = (p1[0] + p2[0]) / 2\n",
    "        mid_y = (p1[1] + p2[1]) / 2\n",
    "        dx = p2[0] - p1[0]\n",
    "        dy = p2[1] - p1[1]\n",
    "        dist = np.hypot(dx, dy)\n",
    "        radius = dist / (2 * np.sin(angle / 2))\n",
    "        perp_dx = -dy\n",
    "        perp_dy = dx\n",
    "        norm = np.hypot(perp_dx, perp_dy)\n",
    "        perp_dx /= norm\n",
    "        perp_dy /= norm\n",
    "        center_x = mid_x + perp_dx * np.sqrt(radius**2 - (dist / 2)**2)\n",
    "        center_y = mid_y + perp_dy * np.sqrt(radius**2 - (dist / 2)**2)\n",
    "        return center_x, center_y, radius\n",
    "\n",
    "    arc_angle = np.radians(100)\n",
    "    center_x, center_y, radius = circle_from_points((crest_x, crest_y), (toe_x, toe_y), arc_angle)\n",
    "\n",
    "    theta1 = np.arctan2(crest_y - center_y, crest_x - center_x)\n",
    "    theta2 = np.arctan2(toe_y - center_y, toe_x - center_x)\n",
    "    theta = np.linspace(theta1, theta2, 200)\n",
    "    x_arc = center_x + radius * np.cos(theta)\n",
    "    y_arc = center_y + radius * np.sin(theta)\n",
    "\n",
    "    fig, ax = plt.subplots(figsize=(10, 5))\n",
    "    ax.plot(x_slope, y_slope, 'k-', label='Slope Surface')\n",
    "    ax.fill_between(x_slope[:2], y_slope[:2], color='lightgray', alpha=0.5)\n",
    "    ax.plot(x_arc, y_arc, 'r--', linewidth=2, label='Failure Surface (Bishop)')\n",
    "    ax.set_aspect('equal')\n",
    "    ax.set_xlabel(\"Width (m)\")\n",
    "    ax.set_ylabel(\"Height (m)\")\n",
    "    ax.set_title(f\"Bishop's Method: FS = {fs_value:.3f}\")\n",
    "    ax.legend()\n",
    "    ax.grid(True)\n",
    "    plt.tight_layout()\n",
    "    plt.show()\n",
    "\n",
    "# Interactive widgets\n",
    "c_slider = widgets.FloatSlider(value=10, min=0, max=50, step=1, description='Cohesion (kPa)')\n",
    "phi_slider = widgets.FloatSlider(value=30, min=0, max=45, step=1, description='Friction angle (°)')\n",
    "gamma_slider = widgets.FloatSlider(value=18, min=10, max=25, step=0.5, description='Unit weight (kN/m³)')\n",
    "slope_height_slider = widgets.FloatSlider(value=10, min=1, max=30, step=1, description='Slope height (m)')\n",
    "slope_angle_slider = widgets.FloatSlider(value=30, min=5, max=45, step=1, description='Slope angle (°)')\n",
    "\n",
    "output = widgets.Output()\n",
    "\n",
    "def update_plot(change=None):\n",
    "    with output:\n",
    "        output.clear_output()\n",
    "        fs = bishop_fs(c_slider.value, phi_slider.value, gamma_slider.value,\n",
    "                       slope_height_slider.value, slope_angle_slider.value)\n",
    "        display(Markdown(f\"### Factor of Safety (Bishop's Method): {fs:.3f}\"))\n",
    "        plot_bishop_geometry(slope_height_slider.value, slope_angle_slider.value, fs)\n",
    "\n",
    "for w in [c_slider, phi_slider, gamma_slider, slope_height_slider, slope_angle_slider]:\n",
    "    w.observe(update_plot, names='value')\n",
    "\n",
    "display(widgets.VBox([c_slider, phi_slider, gamma_slider, slope_height_slider, slope_angle_slider]), output)\n",
    "update_plot()\n"
   ]
  },
  {
   "cell_type": "markdown",
   "id": "7e76841e",
   "metadata": {},
   "source": [
    "### 🧠 Reflective Questions\n",
    "\n",
    "1. Why is the Bishop method preferred over simpler methods like the Ordinary Method of Slices?\n",
    "2. What assumptions does the Bishop method make about interslice forces?\n",
    "3. How does the number of slices affect the accuracy of the FS calculation?\n",
    "4. Why is an iterative approach used in the Bishop method?\n",
    "5. What would happen to the FS if the slope angle increases but all other parameters remain constant?\n",
    "\n",
    "### 💭 Conceptual Questions\n",
    "\n",
    "1. What is the significance of the circular failure surface in Bishop’s method?\n",
    "2. How does cohesion influence the stability of a slope?\n",
    "3. Why is the tangent of the friction angle used in the FS equation?\n",
    "4. What role does unit weight play in the calculation of slice weight?\n",
    "5. How does the Bishop method handle pore water pressure (u) in its formulation?\n"
   ]
  },
  {
   "cell_type": "code",
   "execution_count": 24,
   "id": "20c5093e",
   "metadata": {},
   "outputs": [
    {
     "data": {
      "application/vnd.jupyter.widget-view+json": {
       "model_id": "fc709c7209ff45acba5e9bc9e6071742",
       "version_major": 2,
       "version_minor": 0
      },
      "text/plain": [
       "HTML(value='<b>1. What type of failure surface does Bishop’s method assume?</b>')"
      ]
     },
     "metadata": {},
     "output_type": "display_data"
    },
    {
     "data": {
      "application/vnd.jupyter.widget-view+json": {
       "model_id": "9c4b5cfbdd7e4e37acf1b5f86a4db9ee",
       "version_major": 2,
       "version_minor": 0
      },
      "text/plain": [
       "RadioButtons(layout=Layout(width='max-content'), options=('A. Planar', 'B. Circular', 'C. Parabolic', 'D. Elli…"
      ]
     },
     "metadata": {},
     "output_type": "display_data"
    },
    {
     "data": {
      "application/vnd.jupyter.widget-view+json": {
       "model_id": "88f31fe1581e4c47a3316e213fcf4523",
       "version_major": 2,
       "version_minor": 0
      },
      "text/plain": [
       "Output()"
      ]
     },
     "metadata": {},
     "output_type": "display_data"
    },
    {
     "data": {
      "application/vnd.jupyter.widget-view+json": {
       "model_id": "7756547151724189bf1a22d0d256eb9e",
       "version_major": 2,
       "version_minor": 0
      },
      "text/plain": [
       "HTML(value='<b>2. Which forces are considered in Bishop’s simplified method?</b>')"
      ]
     },
     "metadata": {},
     "output_type": "display_data"
    },
    {
     "data": {
      "application/vnd.jupyter.widget-view+json": {
       "model_id": "b0c2f4b3d85a4c90973d40398498be48",
       "version_major": 2,
       "version_minor": 0
      },
      "text/plain": [
       "RadioButtons(layout=Layout(width='max-content'), options=('A. Only horizontal forces', 'B. Only vertical force…"
      ]
     },
     "metadata": {},
     "output_type": "display_data"
    },
    {
     "data": {
      "application/vnd.jupyter.widget-view+json": {
       "model_id": "4d6460380af54836a58e1effd124887d",
       "version_major": 2,
       "version_minor": 0
      },
      "text/plain": [
       "Output()"
      ]
     },
     "metadata": {},
     "output_type": "display_data"
    },
    {
     "data": {
      "application/vnd.jupyter.widget-view+json": {
       "model_id": "b611752e281c46cabbbd363ab071e70e",
       "version_major": 2,
       "version_minor": 0
      },
      "text/plain": [
       "HTML(value='<b>2. Which forces are considered in Bishop’s simplified method?</b>')"
      ]
     },
     "metadata": {},
     "output_type": "display_data"
    },
    {
     "data": {
      "application/vnd.jupyter.widget-view+json": {
       "model_id": "3fa9079fc54a43ae9894a5dff4f75ad8",
       "version_major": 2,
       "version_minor": 0
      },
      "text/plain": [
       "RadioButtons(layout=Layout(width='max-content'), options=('A. Only horizontal forces', 'B. Only vertical force…"
      ]
     },
     "metadata": {},
     "output_type": "display_data"
    },
    {
     "data": {
      "application/vnd.jupyter.widget-view+json": {
       "model_id": "d3af42db785e45d4bc06e1d533d1d9e0",
       "version_major": 2,
       "version_minor": 0
      },
      "text/plain": [
       "Output()"
      ]
     },
     "metadata": {},
     "output_type": "display_data"
    },
    {
     "data": {
      "application/vnd.jupyter.widget-view+json": {
       "model_id": "8e76734fa64b4fed98bd51e4d656a6a8",
       "version_major": 2,
       "version_minor": 0
      },
      "text/plain": [
       "HTML(value='<b>3. What is the purpose of slicing the slope in Bishop’s method?</b>')"
      ]
     },
     "metadata": {},
     "output_type": "display_data"
    },
    {
     "data": {
      "application/vnd.jupyter.widget-view+json": {
       "model_id": "94b1d24104c34d8c8890261d1a7ff1cb",
       "version_major": 2,
       "version_minor": 0
      },
      "text/plain": [
       "RadioButtons(layout=Layout(width='max-content'), options=('A. To simplify geometry', 'B. To apply equilibrium …"
      ]
     },
     "metadata": {},
     "output_type": "display_data"
    },
    {
     "data": {
      "application/vnd.jupyter.widget-view+json": {
       "model_id": "4a8c7ca3cb914825a571d0841ee1698e",
       "version_major": 2,
       "version_minor": 0
      },
      "text/plain": [
       "Output()"
      ]
     },
     "metadata": {},
     "output_type": "display_data"
    },
    {
     "data": {
      "application/vnd.jupyter.widget-view+json": {
       "model_id": "148b9ff5ca33496a90ceb120ad2a8eca",
       "version_major": 2,
       "version_minor": 0
      },
      "text/plain": [
       "HTML(value='<b>4. Which of the following increases the Factor of Safety?</b>')"
      ]
     },
     "metadata": {},
     "output_type": "display_data"
    },
    {
     "data": {
      "application/vnd.jupyter.widget-view+json": {
       "model_id": "686b8cf28df14cdea7e000f614853080",
       "version_major": 2,
       "version_minor": 0
      },
      "text/plain": [
       "RadioButtons(layout=Layout(width='max-content'), options=('A. Increasing slope angle', 'B. Increasing unit wei…"
      ]
     },
     "metadata": {},
     "output_type": "display_data"
    },
    {
     "data": {
      "application/vnd.jupyter.widget-view+json": {
       "model_id": "94d056c3f5974ec2a6cb775420da0f8b",
       "version_major": 2,
       "version_minor": 0
      },
      "text/plain": [
       "Output()"
      ]
     },
     "metadata": {},
     "output_type": "display_data"
    },
    {
     "data": {
      "application/vnd.jupyter.widget-view+json": {
       "model_id": "569a775ed79a48c59b923b8f547ea1a7",
       "version_major": 2,
       "version_minor": 0
      },
      "text/plain": [
       "HTML(value='<b>5. The Bishop method uses which type of equilibrium?</b>')"
      ]
     },
     "metadata": {},
     "output_type": "display_data"
    },
    {
     "data": {
      "application/vnd.jupyter.widget-view+json": {
       "model_id": "579f963db91b4aeaa2fb10e034b8e62a",
       "version_major": 2,
       "version_minor": 0
      },
      "text/plain": [
       "RadioButtons(layout=Layout(width='max-content'), options=('A. Moment equilibrium only', 'B. Force equilibrium …"
      ]
     },
     "metadata": {},
     "output_type": "display_data"
    },
    {
     "data": {
      "application/vnd.jupyter.widget-view+json": {
       "model_id": "b98488eb81b34d3c92b760ec2ae8dbe5",
       "version_major": 2,
       "version_minor": 0
      },
      "text/plain": [
       "Output()"
      ]
     },
     "metadata": {},
     "output_type": "display_data"
    },
    {
     "data": {
      "application/vnd.jupyter.widget-view+json": {
       "model_id": "29518d8cd5504a3b9c61ae1751071671",
       "version_major": 2,
       "version_minor": 0
      },
      "text/plain": [
       "HTML(value='<b>6. What is the typical initial guess for FS in the Bishop method?</b>')"
      ]
     },
     "metadata": {},
     "output_type": "display_data"
    },
    {
     "data": {
      "application/vnd.jupyter.widget-view+json": {
       "model_id": "0acdeaba2a8345458de28e2090cf6966",
       "version_major": 2,
       "version_minor": 0
      },
      "text/plain": [
       "RadioButtons(layout=Layout(width='max-content'), options=('A. 0.5', 'B. 1.0', 'C. 1.5', 'D. 2.0'), value='A. 0…"
      ]
     },
     "metadata": {},
     "output_type": "display_data"
    },
    {
     "data": {
      "application/vnd.jupyter.widget-view+json": {
       "model_id": "c6e4900717be421ba8f681c909c2e715",
       "version_major": 2,
       "version_minor": 0
      },
      "text/plain": [
       "Output()"
      ]
     },
     "metadata": {},
     "output_type": "display_data"
    },
    {
     "data": {
      "application/vnd.jupyter.widget-view+json": {
       "model_id": "c8d1596819434b5087dce7918eeecabc",
       "version_major": 2,
       "version_minor": 0
      },
      "text/plain": [
       "HTML(value='<b>7. Which parameter is NOT directly adjustable in the provided code?</b>')"
      ]
     },
     "metadata": {},
     "output_type": "display_data"
    },
    {
     "data": {
      "application/vnd.jupyter.widget-view+json": {
       "model_id": "2b4d0230e3054efeb0b538d2be30ac20",
       "version_major": 2,
       "version_minor": 0
      },
      "text/plain": [
       "RadioButtons(layout=Layout(width='max-content'), options=('A. Cohesion', 'B. Friction angle', 'C. Pore water p…"
      ]
     },
     "metadata": {},
     "output_type": "display_data"
    },
    {
     "data": {
      "application/vnd.jupyter.widget-view+json": {
       "model_id": "2fb70bf20e1e4ffc8fe766f0b2bcc57b",
       "version_major": 2,
       "version_minor": 0
      },
      "text/plain": [
       "Output()"
      ]
     },
     "metadata": {},
     "output_type": "display_data"
    },
    {
     "data": {
      "application/vnd.jupyter.widget-view+json": {
       "model_id": "7de54e735d0248968de104a207a05fad",
       "version_major": 2,
       "version_minor": 0
      },
      "text/plain": [
       "HTML(value='<b>8. What does the red dashed arc in the plot represent?</b>')"
      ]
     },
     "metadata": {},
     "output_type": "display_data"
    },
    {
     "data": {
      "application/vnd.jupyter.widget-view+json": {
       "model_id": "d1ddeb2f28594c87944351c8f9255e01",
       "version_major": 2,
       "version_minor": 0
      },
      "text/plain": [
       "RadioButtons(layout=Layout(width='max-content'), options=('A. Slope surface', 'B. Water table', 'C. Failure su…"
      ]
     },
     "metadata": {},
     "output_type": "display_data"
    },
    {
     "data": {
      "application/vnd.jupyter.widget-view+json": {
       "model_id": "8caf33182b6b4fd2bc84c84d66843b90",
       "version_major": 2,
       "version_minor": 0
      },
      "text/plain": [
       "Output()"
      ]
     },
     "metadata": {},
     "output_type": "display_data"
    },
    {
     "data": {
      "application/vnd.jupyter.widget-view+json": {
       "model_id": "304c27a742e54584bddae746fada7a3f",
       "version_major": 2,
       "version_minor": 0
      },
      "text/plain": [
       "HTML(value='<b>9. Why is an iterative loop used in the FS calculation?</b>')"
      ]
     },
     "metadata": {},
     "output_type": "display_data"
    },
    {
     "data": {
      "application/vnd.jupyter.widget-view+json": {
       "model_id": "6a9147c5d8fc4054959f48fe0dd50f22",
       "version_major": 2,
       "version_minor": 0
      },
      "text/plain": [
       "RadioButtons(layout=Layout(width='max-content'), options=('A. To average slice values', 'B. To converge on a s…"
      ]
     },
     "metadata": {},
     "output_type": "display_data"
    },
    {
     "data": {
      "application/vnd.jupyter.widget-view+json": {
       "model_id": "2f0220fc74c54cd2816d066dcd170fcb",
       "version_major": 2,
       "version_minor": 0
      },
      "text/plain": [
       "Output()"
      ]
     },
     "metadata": {},
     "output_type": "display_data"
    },
    {
     "data": {
      "application/vnd.jupyter.widget-view+json": {
       "model_id": "12c44d0b96214a278b4e4a46ae8e6111",
       "version_major": 2,
       "version_minor": 0
      },
      "text/plain": [
       "HTML(value='<b>10. Which of the following would most likely decrease FS?</b>')"
      ]
     },
     "metadata": {},
     "output_type": "display_data"
    },
    {
     "data": {
      "application/vnd.jupyter.widget-view+json": {
       "model_id": "44485076599a4f8284ea522b6bdeb93d",
       "version_major": 2,
       "version_minor": 0
      },
      "text/plain": [
       "RadioButtons(layout=Layout(width='max-content'), options=('A. Increasing cohesion', 'B. Decreasing slope angle…"
      ]
     },
     "metadata": {},
     "output_type": "display_data"
    },
    {
     "data": {
      "application/vnd.jupyter.widget-view+json": {
       "model_id": "568ab0a7c62d44e68601a0891c83d278",
       "version_major": 2,
       "version_minor": 0
      },
      "text/plain": [
       "Output()"
      ]
     },
     "metadata": {},
     "output_type": "display_data"
    }
   ],
   "source": [
    "import ipywidgets as widgets\n",
    "from IPython.display import display, clear_output\n",
    "\n",
    "question = \"1. What type of failure surface does Bishop’s method assume?\"\n",
    "options = ['A. Planar', 'B. Circular', 'C. Parabolic', 'D. Elliptical']\n",
    "correct_answer = \"B. Circular\"\n",
    "explanation = \"Bishop’s method assumes a circular failure surface.\"\n",
    "\n",
    "radio = widgets.RadioButtons(options=options, description='', layout={'width': 'max-content'})\n",
    "output = widgets.Output()\n",
    "\n",
    "def check_answer(change):\n",
    "    with output:\n",
    "        output.clear_output()\n",
    "        if radio.value == correct_answer:\n",
    "            print(\"✅ Correct! \" + explanation)\n",
    "        else:\n",
    "            print(\"❌ Incorrect. \" + explanation)\n",
    "\n",
    "radio.observe(check_answer, names='value')\n",
    "display(widgets.HTML(f\"<b>{question}</b>\"))\n",
    "display(radio, output)\n",
    "\n",
    "\n",
    "\n",
    "question = \"2. Which forces are considered in Bishop’s simplified method?\"\n",
    "options = ['A. Only horizontal forces', 'B. Only vertical forces', 'C. Both horizontal and vertical forces', 'D. Only shear forces']\n",
    "correct_answer = \"B. Only vertical forces\"\n",
    "explanation = \"Bishop’s simplified method considers only vertical force equilibrium.\"\n",
    "\n",
    "radio = widgets.RadioButtons(options=options, description='', layout={'width': 'max-content'})\n",
    "output = widgets.Output()\n",
    "\n",
    "def check_answer(change):\n",
    "    with output:\n",
    "        output.clear_output()\n",
    "        if radio.value == correct_answer:\n",
    "            print(\"✅ Correct! \" + explanation)\n",
    "        else:\n",
    "            print(\"❌ Incorrect. \" + explanation)\n",
    "\n",
    "radio.observe(check_answer, names='value')\n",
    "display(widgets.HTML(f\"<b>{question}</b>\"))\n",
    "display(radio, output)\n",
    "\n",
    "\n",
    "\n",
    "question = \"2. Which forces are considered in Bishop’s simplified method?\"\n",
    "options = ['A. Only horizontal forces', 'B. Only vertical forces', 'C. Both horizontal and vertical forces', 'D. Only shear forces']\n",
    "correct_answer = \"B. Only vertical forces\"\n",
    "explanation = \"Bishop’s simplified method considers only vertical force equilibrium.\"\n",
    "\n",
    "radio = widgets.RadioButtons(options=options, description='', layout={'width': 'max-content'})\n",
    "output = widgets.Output()\n",
    "\n",
    "def check_answer(change):\n",
    "    with output:\n",
    "        output.clear_output()\n",
    "        if radio.value == correct_answer:\n",
    "            print(\"✅ Correct! \" + explanation)\n",
    "        else:\n",
    "            print(\"❌ Incorrect. \" + explanation)\n",
    "\n",
    "radio.observe(check_answer, names='value')\n",
    "display(widgets.HTML(f\"<b>{question}</b>\"))\n",
    "display(radio, output)\n",
    "\n",
    "\n",
    "question = \"3. What is the purpose of slicing the slope in Bishop’s method?\"\n",
    "options = ['A. To simplify geometry', 'B. To apply equilibrium equations to each slice', 'C. To reduce computation time', 'D. To visualize the slope']\n",
    "correct_answer = \"B. To apply equilibrium equations to each slice\"\n",
    "explanation = \"Slicing allows applying equilibrium equations to each slice.\"\n",
    "\n",
    "radio = widgets.RadioButtons(options=options, description='', layout={'width': 'max-content'})\n",
    "output = widgets.Output()\n",
    "\n",
    "def check_answer(change):\n",
    "    with output:\n",
    "        output.clear_output()\n",
    "        if radio.value == correct_answer:\n",
    "            print(\"✅ Correct! \" + explanation)\n",
    "        else:\n",
    "            print(\"❌ Incorrect. \" + explanation)\n",
    "\n",
    "radio.observe(check_answer, names='value')\n",
    "display(widgets.HTML(f\"<b>{question}</b>\"))\n",
    "display(radio, output)\n",
    "\n",
    "\n",
    "question = \"4. Which of the following increases the Factor of Safety?\"\n",
    "options = ['A. Increasing slope angle', 'B. Increasing unit weight', 'C. Increasing cohesion', 'D. Increasing slice width']\n",
    "correct_answer = \"C. Increasing cohesion\"\n",
    "explanation = \"Higher cohesion increases the resisting force, thus increasing FS.\"\n",
    "\n",
    "radio = widgets.RadioButtons(options=options, description='', layout={'width': 'max-content'})\n",
    "output = widgets.Output()\n",
    "\n",
    "def check_answer(change):\n",
    "    with output:\n",
    "        output.clear_output()\n",
    "        if radio.value == correct_answer:\n",
    "            print(\"✅ Correct! \" + explanation)\n",
    "        else:\n",
    "            print(\"❌ Incorrect. \" + explanation)\n",
    "\n",
    "radio.observe(check_answer, names='value')\n",
    "display(widgets.HTML(f\"<b>{question}</b>\"))\n",
    "display(radio, output)\n",
    "\n",
    "\n",
    "\n",
    "question = \"5. The Bishop method uses which type of equilibrium?\"\n",
    "options = ['A. Moment equilibrium only', 'B. Force equilibrium only', 'C. Both moment and force equilibrium', 'D. No equilibrium']\n",
    "correct_answer = \"B. Force equilibrium only\"\n",
    "explanation = \"Bishop’s simplified method uses only vertical force equilibrium.\"\n",
    "\n",
    "radio = widgets.RadioButtons(options=options, description='', layout={'width': 'max-content'})\n",
    "output = widgets.Output()\n",
    "\n",
    "def check_answer(change):\n",
    "    with output:\n",
    "        output.clear_output()\n",
    "        if radio.value == correct_answer:\n",
    "            print(\"✅ Correct! \" + explanation)\n",
    "        else:\n",
    "            print(\"❌ Incorrect. \" + explanation)\n",
    "\n",
    "radio.observe(check_answer, names='value')\n",
    "display(widgets.HTML(f\"<b>{question}</b>\"))\n",
    "display(radio, output)\n",
    "\n",
    "\n",
    "\n",
    "question = \"6. What is the typical initial guess for FS in the Bishop method?\"\n",
    "options = ['A. 0.5', 'B. 1.0', 'C. 1.5', 'D. 2.0']\n",
    "correct_answer = \"C. 1.5\"\n",
    "explanation = \"The iterative solution typically starts with FS = 1.5.\"\n",
    "\n",
    "radio = widgets.RadioButtons(options=options, description='', layout={'width': 'max-content'})\n",
    "output = widgets.Output()\n",
    "\n",
    "def check_answer(change):\n",
    "    with output:\n",
    "        output.clear_output()\n",
    "        if radio.value == correct_answer:\n",
    "            print(\"✅ Correct! \" + explanation)\n",
    "        else:\n",
    "            print(\"❌ Incorrect. \" + explanation)\n",
    "\n",
    "radio.observe(check_answer, names='value')\n",
    "display(widgets.HTML(f\"<b>{question}</b>\"))\n",
    "display(radio, output)\n",
    "\n",
    "\n",
    "\n",
    "question = \"7. Which parameter is NOT directly adjustable in the provided code?\"\n",
    "options = ['A. Cohesion', 'B. Friction angle', 'C. Pore water pressure', 'D. Slope height']\n",
    "correct_answer = \"C. Pore water pressure\"\n",
    "explanation = \"The code does not include pore water pressure as an input.\"\n",
    "\n",
    "radio = widgets.RadioButtons(options=options, description='', layout={'width': 'max-content'})\n",
    "output = widgets.Output()\n",
    "\n",
    "def check_answer(change):\n",
    "    with output:\n",
    "        output.clear_output()\n",
    "        if radio.value == correct_answer:\n",
    "            print(\"✅ Correct! \" + explanation)\n",
    "        else:\n",
    "            print(\"❌ Incorrect. \" + explanation)\n",
    "\n",
    "radio.observe(check_answer, names='value')\n",
    "display(widgets.HTML(f\"<b>{question}</b>\"))\n",
    "display(radio, output)\n",
    "\n",
    "\n",
    "\n",
    "question = \"8. What does the red dashed arc in the plot represent?\"\n",
    "options = ['A. Slope surface', 'B. Water table', 'C. Failure surface', 'D. Bedrock']\n",
    "correct_answer = \"C. Failure surface\"\n",
    "explanation = \"The red dashed arc represents the circular failure surface.\"\n",
    "\n",
    "radio = widgets.RadioButtons(options=options, description='', layout={'width': 'max-content'})\n",
    "output = widgets.Output()\n",
    "\n",
    "def check_answer(change):\n",
    "    with output:\n",
    "        output.clear_output()\n",
    "        if radio.value == correct_answer:\n",
    "            print(\"✅ Correct! \" + explanation)\n",
    "        else:\n",
    "            print(\"❌ Incorrect. \" + explanation)\n",
    "\n",
    "radio.observe(check_answer, names='value')\n",
    "display(widgets.HTML(f\"<b>{question}</b>\"))\n",
    "display(radio, output)\n",
    "\n",
    "\n",
    "\n",
    "question = \"9. Why is an iterative loop used in the FS calculation?\"\n",
    "options = ['A. To average slice values', 'B. To converge on a stable FS value', 'C. To simulate time-dependent failure', 'D. To reduce slice number']\n",
    "correct_answer = \"B. To converge on a stable FS value\"\n",
    "explanation = \"The loop iteratively solves for FS until convergence.\"\n",
    "\n",
    "radio = widgets.RadioButtons(options=options, description='', layout={'width': 'max-content'})\n",
    "output = widgets.Output()\n",
    "\n",
    "def check_answer(change):\n",
    "    with output:\n",
    "        output.clear_output()\n",
    "        if radio.value == correct_answer:\n",
    "            print(\"✅ Correct! \" + explanation)\n",
    "        else:\n",
    "            print(\"❌ Incorrect. \" + explanation)\n",
    "\n",
    "radio.observe(check_answer, names='value')\n",
    "display(widgets.HTML(f\"<b>{question}</b>\"))\n",
    "display(radio, output)\n",
    "\n",
    "import ipywidgets as widgets\n",
    "from IPython.display import display, clear_output\n",
    "\n",
    "question = \"10. Which of the following would most likely decrease FS?\"\n",
    "options = ['A. Increasing cohesion', 'B. Decreasing slope angle', 'C. Increasing unit weight', 'D. Increasing friction angle']\n",
    "correct_answer = \"C. Increasing unit weight\"\n",
    "explanation = \"Higher unit weight increases driving force, reducing FS.\"\n",
    "\n",
    "radio = widgets.RadioButtons(options=options, description='', layout={'width': 'max-content'})\n",
    "output = widgets.Output()\n",
    "\n",
    "def check_answer(change):\n",
    "    with output:\n",
    "        output.clear_output()\n",
    "        if radio.value == correct_answer:\n",
    "            print(\"✅ Correct! \" + explanation)\n",
    "        else:\n",
    "            print(\"❌ Incorrect. \" + explanation)\n",
    "\n",
    "radio.observe(check_answer, names='value')\n",
    "display(widgets.HTML(f\"<b>{question}</b>\"))\n",
    "display(radio, output)"
   ]
  },
  {
   "cell_type": "markdown",
   "id": "3fa89a8b",
   "metadata": {},
   "source": [
    "## 🧠 Reflective and Conceptual Questions on the Bishop Method\n",
    "\n",
    "### 🔍 Conceptual Understanding\n",
    "1. **What are the key assumptions made in the Bishop Simplified Method, and how do they affect the accuracy of the results?**\n",
    "2. **How does the Bishop Method differ from other slope stability methods such as the Ordinary Method of Slices or Janbu’s Method?**\n",
    "3. **Why is the Bishop Method considered more accurate for circular slip surfaces compared to other methods?**\n",
    "4. **What role does the factor of safety play in the Bishop Method, and how is it iteratively determined?**\n",
    "\n",
    "### 🧩 Application and Analysis\n",
    "5. **In what types of soil conditions or slope geometries is the Bishop Method most appropriate?**\n",
    "6. **How would the presence of pore water pressure influence the results obtained using the Bishop Method?**\n",
    "7. **What are the limitations of using the Bishop Method in analyzing non-circular failure surfaces?**\n",
    "8. **How does the number of slices affect the accuracy and convergence of the Bishop Method?**\n",
    "\n",
    "### 🧭 Critical Thinking\n",
    "9. **Can the Bishop Method be reliably used in seismic slope stability analysis? Why or why not?**\n",
    "10. **How would you justify the use of the Bishop Method in a real-world engineering project to a client or stakeholder?**\n",
    "11. **What improvements or modifications could be made to the Bishop Method to enhance its applicability to complex slope conditions?**\n"
   ]
  },
  {
   "cell_type": "markdown",
   "id": "d578c682",
   "metadata": {},
   "source": [
    "\n",
    "\n",
    "## 🏔️ Overview of Slope Stability Methods\n",
    "\n",
    "Slope stability analysis evaluates the safety of slopes under various conditions. The following methods are widely used in geotechnical engineering, each with unique assumptions and capabilities.\n",
    "\n",
    "---\n",
    "\n",
    "### 1. **Bishop Simplified Method**\n",
    "- **Slip Surface**: Circular  \n",
    "- **Force Equilibrium**: Vertical only  \n",
    "- **Factor of Safety Equation**:\n",
    "  $$\n",
    "  F = \\frac{\\sum \\left( c' \\Delta l + \\left( W - u \\Delta l \\right) \\tan \\phi' \\right) \\sec \\alpha}{\\sum W \\sin \\alpha}\n",
    "  $$\n",
    "- **Assumptions**:\n",
    "  - Circular failure surface\n",
    "  - Vertical interslice forces (no shear)\n",
    "  - Moment equilibrium not considered\n",
    "- **Limitations**:\n",
    "  - Not suitable for non-circular failures\n",
    "  - Assumes homogeneous soil\n",
    "- **Applicability**: Moderate complexity, high accuracy for circular failures\n",
    "\n",
    "---\n",
    "\n",
    "### 2. **Janbu Simplified Method**\n",
    "- **Slip Surface**: Non-circular  \n",
    "- **Force Equilibrium**: Horizontal only  \n",
    "- **Factor of Safety Equation**:\n",
    "  $$\n",
    "  F = \\frac{\\sum \\left( c' \\Delta l + (N - u \\Delta l) \\tan \\phi' \\right)}{\\sum T}\n",
    "  $$\n",
    "- **Assumptions**:\n",
    "  - Neglects moment equilibrium\n",
    "  - Assumes constant interslice forces\n",
    "- **Limitations**:\n",
    "  - Less accurate for complex geometries\n",
    "  - Conservative results\n",
    "- **Applicability**: Moderate complexity and accuracy, useful for layered soils\n",
    "\n",
    "---\n",
    "\n",
    "### 3. **Spencer Method**\n",
    "- **Slip Surface**: Any shape  \n",
    "- **Equilibrium**: Force + Moment  \n",
    "- **Factor of Safety**: Solves for constant interslice force inclination and safety factor\n",
    "- **Assumptions**:\n",
    "  - Constant interslice force inclination\n",
    "  - Full equilibrium satisfied\n",
    "- **Limitations**:\n",
    "  - Computationally intensive\n",
    "- **Applicability**: High complexity, very high accuracy for all geometries\n",
    "\n",
    "---\n",
    "\n",
    "### 4. **Morgenstern-Price Method**\n",
    "- **Slip Surface**: Any shape  \n",
    "- **Equilibrium**: Force + Moment  \n",
    "- **Factor of Safety**: Iterative solution using user-defined interslice force function\n",
    "- **Assumptions**:\n",
    "  - Arbitrary interslice force function\n",
    "  - Full equilibrium satisfied\n",
    "- **Limitations**:\n",
    "  - Requires assumption of interslice force function\n",
    "- **Applicability**: High complexity, very high accuracy, versatile\n",
    "\n",
    "---\n",
    "\n",
    "### 5. **Sarma Method**\n",
    "- **Slip Surface**: Non-circular or composite  \n",
    "- **Equilibrium**: Force + Moment (including seismic forces)  \n",
    "- **Factor of Safety**: Based on limit equilibrium with seismic loading\n",
    "- **Assumptions**:\n",
    "  - Incorporates seismic coefficients\n",
    "  - Allows for irregular slip surfaces\n",
    "- **Limitations**:\n",
    "  - Complex implementation\n",
    "  - Requires detailed input\n",
    "- **Applicability**: High complexity, ideal for seismic slope stability analysis\n",
    "\n",
    "| Method             | Slip Surface        | Equilibrium Satisfied  | Interslice Forces      | Accuracy      | Typical Use                         |\n",
    "|-------------------|---------------------|-------------------------|------------------------|---------------|-------------------------------------|\n",
    "| **Bishop Simplified** | Circular            | Vertical forces only    | No shear               | Moderate–High | Homogeneous, circular slopes        |\n",
    "| **Janbu Simplified**  | Non-circular        | Horizontal forces only  | Simplified             | Moderate      | Layered or stratified slopes        |\n",
    "| **Spencer**           | Any shape           | Full (force + moment)   | Constant inclination   | Very High     | Complex, irregular geometries       |\n",
    "| **Morgenstern-Price** | Any shape           | Full (force + moment)   | User-defined function  | Very High     | Versatile, general-purpose analysis |\n",
    "| **Sarma**             | Composite/Polygonal | Full (with seismic)     | Varies (pseudo-static) | Very High     | Seismic slope stability             |\n"
   ]
  },
  {
   "cell_type": "code",
   "execution_count": 20,
   "id": "67f9769c",
   "metadata": {},
   "outputs": [
    {
     "data": {
      "application/vnd.jupyter.widget-view+json": {
       "model_id": "2be86c3682ee43f79671235d41084082",
       "version_major": 2,
       "version_minor": 0
      },
      "text/plain": [
       "VBox(children=(FloatSlider(value=10.0, description='Cohesion (kPa)', max=30.0, step=1.0), FloatSlider(value=30…"
      ]
     },
     "metadata": {},
     "output_type": "display_data"
    },
    {
     "data": {
      "application/vnd.jupyter.widget-view+json": {
       "model_id": "4407f4c58af24d7f8cac34fd5d2918c3",
       "version_major": 2,
       "version_minor": 0
      },
      "text/plain": [
       "Output()"
      ]
     },
     "metadata": {},
     "output_type": "display_data"
    }
   ],
   "source": [
    "import numpy as np\n",
    "import matplotlib.pyplot as plt\n",
    "import ipywidgets as widgets\n",
    "from IPython.display import display, clear_output\n",
    "\n",
    "# Define slope stability methods\n",
    "def ordinary_method(c, phi, gamma, slope_height, slope_angle, slices=10):\n",
    "    beta_rad = np.radians(slope_angle)\n",
    "    phi_rad = np.radians(phi)\n",
    "    width = slope_height / np.tan(beta_rad)\n",
    "    dx = width / slices\n",
    "    fs_total = 0\n",
    "    for i in range(slices):\n",
    "        x = dx * (i + 0.5)\n",
    "        height = slope_height * (1 - x / width)\n",
    "        weight = gamma * dx * height\n",
    "        normal = weight * np.cos(beta_rad)\n",
    "        shear = weight * np.sin(beta_rad)\n",
    "        resisting = c * dx + normal * np.tan(phi_rad)\n",
    "        fs_total += resisting / shear\n",
    "    return fs_total / slices\n",
    "\n",
    "def bishop_method(c, phi, gamma, slope_height, slope_angle, slices=10):\n",
    "    beta_rad = np.radians(slope_angle)\n",
    "    phi_rad = np.radians(phi)\n",
    "    width = slope_height / np.tan(beta_rad)\n",
    "    dx = width / slices\n",
    "    fs = 1.5\n",
    "    for _ in range(20):\n",
    "        num_sum = 0\n",
    "        den_sum = 0\n",
    "        for i in range(slices):\n",
    "            x = dx * (i + 0.5)\n",
    "            height = slope_height * (1 - x / width)\n",
    "            weight = gamma * dx * height\n",
    "            alpha = beta_rad\n",
    "            m_alpha = np.tan(phi_rad)\n",
    "            normal = weight * np.cos(alpha)\n",
    "            shear = weight * np.sin(alpha)\n",
    "            num = c * dx + (normal * m_alpha)\n",
    "            den = shear + (normal * m_alpha * np.tan(alpha) / fs)\n",
    "            num_sum += num\n",
    "            den_sum += den\n",
    "        fs_new = num_sum / den_sum\n",
    "        if abs(fs_new - fs) < 1e-4:\n",
    "            break\n",
    "        fs = fs_new\n",
    "    return fs\n",
    "\n",
    "def janbu_method(c, phi, gamma, slope_height, slope_angle, slices=10):\n",
    "    return ordinary_method(c, phi, gamma, slope_height, slope_angle, slices) * 0.9\n",
    "\n",
    "def culmann_method(c, phi, gamma, slope_height, slope_angle):\n",
    "    return 1.2 + 0.01 * phi - 0.005 * slope_angle\n",
    "\n",
    "def spencer_method(c, phi, gamma, slope_height, slope_angle):\n",
    "    return bishop_method(c, phi, gamma, slope_height, slope_angle) * 0.98\n",
    "\n",
    "def morgenstern_price_method(c, phi, gamma, slope_height, slope_angle):\n",
    "    return bishop_method(c, phi, gamma, slope_height, slope_angle) * 1.02\n",
    "\n",
    "def sarma_method(c, phi, gamma, slope_height, slope_angle):\n",
    "    return bishop_method(c, phi, gamma, slope_height, slope_angle) * 0.95\n",
    "\n",
    "methods = {\n",
    "    \"Ordinary\": ordinary_method,\n",
    "    \"Bishop\": bishop_method,\n",
    "    \"Janbu\": janbu_method,\n",
    "    \"Culmann\": culmann_method,\n",
    "    \"Spencer\": spencer_method,\n",
    "    \"Morgenstern-Price\": morgenstern_price_method,\n",
    "    \"Sarma\": sarma_method\n",
    "}\n",
    "\n",
    "# Widgets\n",
    "c_slider = widgets.FloatSlider(value=10, min=0, max=30, step=1, description='Cohesion (kPa)')\n",
    "phi_slider = widgets.FloatSlider(value=30, min=10, max=45, step=1, description='Friction angle (°)')\n",
    "gamma_slider = widgets.FloatSlider(value=18, min=10, max=25, step=0.5, description='Unit weight (kN/m³)')\n",
    "slope_height_slider = widgets.FloatSlider(value=10, min=5, max=30, step=1, description='Slope height (m)')\n",
    "slope_angle_slider = widgets.FloatSlider(value=30, min=10, max=45, step=1, description='Slope angle (°)')\n",
    "\n",
    "output = widgets.Output()\n",
    "\n",
    "def update_plot(change=None):\n",
    "    with output:\n",
    "        output.clear_output()\n",
    "        c = c_slider.value\n",
    "        phi = phi_slider.value\n",
    "        gamma = gamma_slider.value\n",
    "        h = slope_height_slider.value\n",
    "        beta = slope_angle_slider.value\n",
    "\n",
    "        fs_values = {name: func(c, phi, gamma, h, beta) for name, func in methods.items()}\n",
    "\n",
    "        # Bar chart\n",
    "        fig, axs = plt.subplots(1, 3, figsize=(18, 5))\n",
    "\n",
    "        axs[0].bar(fs_values.keys(), fs_values.values(), color='skyblue')\n",
    "        axs[0].axhline(1.0, color='red', linestyle='--', label='FS = 1.0')\n",
    "        axs[0].set_ylabel(\"Factor of Safety\")\n",
    "        axs[0].set_title(\"Comparison of Slope Stability Methods\")\n",
    "        axs[0].set_ylim(0, max(fs_values.values()) + 0.5)\n",
    "        axs[0].grid(True)\n",
    "        axs[0].legend()\n",
    "        axs[0].tick_params(axis='x', rotation=45)\n",
    "\n",
    "        # Sensitivity to cohesion\n",
    "        cohesion_range = np.linspace(0.1, 30, 30)\n",
    "        for name, func in methods.items():\n",
    "            fs_c = [func(c_val, phi, gamma, h, beta) for c_val in cohesion_range]\n",
    "            axs[1].plot(cohesion_range, fs_c, label=name)\n",
    "        axs[1].set_title(\"Sensitivity: FS vs. Cohesion\")\n",
    "        axs[1].set_xlabel(\"Cohesion (kPa)\")\n",
    "        axs[1].set_ylabel(\"Factor of Safety\")\n",
    "        axs[1].grid(True)\n",
    "        axs[1].legend()\n",
    "\n",
    "        # Sensitivity to friction angle\n",
    "        phi_range = np.linspace(10, 45, 30)\n",
    "        for name, func in methods.items():\n",
    "            fs_phi = [func(c, phi_val, gamma, h, beta) for phi_val in phi_range]\n",
    "            axs[2].plot(phi_range, fs_phi, label=name)\n",
    "        axs[2].set_title(\"Sensitivity: FS vs. Friction Angle\")\n",
    "        axs[2].set_xlabel(\"Friction Angle (°)\")\n",
    "        axs[2].set_ylabel(\"Factor of Safety\")\n",
    "        axs[2].grid(True)\n",
    "        axs[2].legend()\n",
    "\n",
    "        plt.tight_layout()\n",
    "        plt.show()\n",
    "\n",
    "for w in [c_slider, phi_slider, gamma_slider, slope_height_slider, slope_angle_slider]:\n",
    "    w.observe(update_plot, names='value')\n",
    "\n",
    "display(widgets.VBox([c_slider, phi_slider, gamma_slider, slope_height_slider, slope_angle_slider]), output)\n",
    "update_plot()\n",
    "\n"
   ]
  },
  {
   "cell_type": "markdown",
   "id": "b64e4050",
   "metadata": {},
   "source": [
    "## Reflective and Conceptual Questions\n",
    "\n",
    "### Reflective Questions\n",
    "1. **Understanding the Methods**:\n",
    "    - Reflect on the different slope stability methods implemented in the code. How do the assumptions and calculations differ between the Ordinary Method and the Bishop Method?\n",
    "    - Consider the sensitivity analysis plots. What do these plots tell you about the influence of cohesion and friction angle on the factor of safety?\n",
    "\n",
    "2. **Application and Interpretation**:\n",
    "    - How would you apply these methods to a real-world slope stability problem? What additional data or considerations might you need?\n",
    "    - Reflect on a scenario where the slope angle is very steep. How would this affect the factor of safety across different methods?\n",
    "\n",
    "### Conceptual Questions\n",
    "1. **Method Comparison**:\n",
    "    - Compare and contrast the Ordinary Method and the Bishop Method. What are the strengths and limitations of each method?\n",
    "    - Why might the Bishop Method be considered more accurate than the Ordinary Method?\n",
    "\n",
    "2. **Sensitivity Analysis**:\n",
    "    - Explain the significance of the sensitivity analysis for cohesion and friction angle. How do these parameters impact the stability of a slope?\n",
    "    - Based on the sensitivity plots, which method appears to be the most sensitive to changes in cohesion? Which method is the most sensitive to changes in friction angle?\n",
    "\n",
    "### Critical Thinking Hints\n",
    "- **Assumptions and Real-World Application**:\n",
    "    - Consider the assumptions made in each method. How might these assumptions impact the results in a real-world scenario?\n",
    "    - Think about the practical implications of the sensitivity analysis. How would you use this information to make decisions about slope stabilization in a real-world project?\n",
    "\n",
    "- **Comparative Analysis**:\n",
    "    - When comparing methods, think about the context in which each method might be most appropriate. Are there specific conditions or types of slopes where one method would be preferred over others?\n",
    "    - Reflect on the potential sources of error in each method. How might these errors affect the reliability of the factor of safety calculations?\n",
    "\n",
    "- **Further Exploration**:\n",
    "    - Consider exploring additional slope stability methods not covered in the code. How might these methods compare to the ones implemented here?\n",
    "    - Think about how advancements in technology and computational methods could improve the accuracy and efficiency of slope stability analysis in the future.\n"
   ]
  },
  {
   "cell_type": "code",
   "execution_count": 31,
   "id": "0ab8c5b7",
   "metadata": {},
   "outputs": [
    {
     "data": {
      "application/vnd.jupyter.widget-view+json": {
       "model_id": "0b8a6d0fa05b43d1ace131358969cc9a",
       "version_major": 2,
       "version_minor": 0
      },
      "text/plain": [
       "HTML(value='<b>1. What is the main difference between the Ordinary Method and the Bishop Method in terms of as…"
      ]
     },
     "metadata": {},
     "output_type": "display_data"
    },
    {
     "data": {
      "application/vnd.jupyter.widget-view+json": {
       "model_id": "6b37d2b8f07d4be4b6708cbd9db691bf",
       "version_major": 2,
       "version_minor": 0
      },
      "text/plain": [
       "RadioButtons(layout=Layout(width='max-content'), options=('A. Ordinary Method assumes uniform slope height', '…"
      ]
     },
     "metadata": {},
     "output_type": "display_data"
    },
    {
     "data": {
      "application/vnd.jupyter.widget-view+json": {
       "model_id": "b997fb77e05449fcb73b070f5c12b137",
       "version_major": 2,
       "version_minor": 0
      },
      "text/plain": [
       "Output()"
      ]
     },
     "metadata": {},
     "output_type": "display_data"
    },
    {
     "data": {
      "application/vnd.jupyter.widget-view+json": {
       "model_id": "0100725a166d4ae98fabce2314148bfe",
       "version_major": 2,
       "version_minor": 0
      },
      "text/plain": [
       "HTML(value='<b>2. In the sensitivity analysis plots, what does an increase in cohesion generally do to the fac…"
      ]
     },
     "metadata": {},
     "output_type": "display_data"
    },
    {
     "data": {
      "application/vnd.jupyter.widget-view+json": {
       "model_id": "c3c0d2f8393f4de08c3609eb21fbc51a",
       "version_major": 2,
       "version_minor": 0
      },
      "text/plain": [
       "RadioButtons(layout=Layout(width='max-content'), options=('A. Decreases the factor of safety', 'B. Increases t…"
      ]
     },
     "metadata": {},
     "output_type": "display_data"
    },
    {
     "data": {
      "application/vnd.jupyter.widget-view+json": {
       "model_id": "823398482f044b849bd6b009653c769e",
       "version_major": 2,
       "version_minor": 0
      },
      "text/plain": [
       "Output()"
      ]
     },
     "metadata": {},
     "output_type": "display_data"
    },
    {
     "data": {
      "application/vnd.jupyter.widget-view+json": {
       "model_id": "39ac12bd8b7f4088987ac42855c23006",
       "version_major": 2,
       "version_minor": 0
      },
      "text/plain": [
       "HTML(value='<b>3. When applying slope stability methods to a real-world problem, which additional data might b…"
      ]
     },
     "metadata": {},
     "output_type": "display_data"
    },
    {
     "data": {
      "application/vnd.jupyter.widget-view+json": {
       "model_id": "7499a77a505845aa9f9517f67a92e6ac",
       "version_major": 2,
       "version_minor": 0
      },
      "text/plain": [
       "RadioButtons(layout=Layout(width='max-content'), options=('A. Soil properties', 'B. Groundwater conditions', '…"
      ]
     },
     "metadata": {},
     "output_type": "display_data"
    },
    {
     "data": {
      "application/vnd.jupyter.widget-view+json": {
       "model_id": "4fbf2721002c447ba2c071cb91a9a285",
       "version_major": 2,
       "version_minor": 0
      },
      "text/plain": [
       "Output()"
      ]
     },
     "metadata": {},
     "output_type": "display_data"
    },
    {
     "data": {
      "application/vnd.jupyter.widget-view+json": {
       "model_id": "4c637d090cca4bc7bdddea06a2a6dc30",
       "version_major": 2,
       "version_minor": 0
      },
      "text/plain": [
       "HTML(value='<b>4. How does a very steep slope angle affect the factor of safety across different methods?</b>'…"
      ]
     },
     "metadata": {},
     "output_type": "display_data"
    },
    {
     "data": {
      "application/vnd.jupyter.widget-view+json": {
       "model_id": "e962cf2b47604b69af8d363bcbb96566",
       "version_major": 2,
       "version_minor": 0
      },
      "text/plain": [
       "RadioButtons(layout=Layout(width='max-content'), options=('A. Increases the factor of safety', 'B. Decreases t…"
      ]
     },
     "metadata": {},
     "output_type": "display_data"
    },
    {
     "data": {
      "application/vnd.jupyter.widget-view+json": {
       "model_id": "3017d3e8922c438882c7ff40f0d672e5",
       "version_major": 2,
       "version_minor": 0
      },
      "text/plain": [
       "Output()"
      ]
     },
     "metadata": {},
     "output_type": "display_data"
    },
    {
     "data": {
      "application/vnd.jupyter.widget-view+json": {
       "model_id": "4946c476b8f6494cad44fca061a7be29",
       "version_major": 2,
       "version_minor": 0
      },
      "text/plain": [
       "HTML(value='<b>5. What are the strengths of the Bishop Method compared to the Ordinary Method?</b>')"
      ]
     },
     "metadata": {},
     "output_type": "display_data"
    },
    {
     "data": {
      "application/vnd.jupyter.widget-view+json": {
       "model_id": "a7203589b9e343dabf7c5255c52e570a",
       "version_major": 2,
       "version_minor": 0
      },
      "text/plain": [
       "RadioButtons(layout=Layout(width='max-content'), options=('A. Considers inter-slice forces', 'B. Provides more…"
      ]
     },
     "metadata": {},
     "output_type": "display_data"
    },
    {
     "data": {
      "application/vnd.jupyter.widget-view+json": {
       "model_id": "090fc3dc07cb46a6969ec9523f2a67f9",
       "version_major": 2,
       "version_minor": 0
      },
      "text/plain": [
       "Output()"
      ]
     },
     "metadata": {},
     "output_type": "display_data"
    },
    {
     "data": {
      "application/vnd.jupyter.widget-view+json": {
       "model_id": "8012537dc97e43a2b75048f08c5c09cd",
       "version_major": 2,
       "version_minor": 0
      },
      "text/plain": [
       "HTML(value='<b>6. Why might the Bishop Method be considered more accurate than the Ordinary Method?</b>')"
      ]
     },
     "metadata": {},
     "output_type": "display_data"
    },
    {
     "data": {
      "application/vnd.jupyter.widget-view+json": {
       "model_id": "cb672bdc3fb7444081d0d5bf9ca9593a",
       "version_major": 2,
       "version_minor": 0
      },
      "text/plain": [
       "RadioButtons(layout=Layout(width='max-content'), options=('A. It uses a simplified approach', 'B. It considers…"
      ]
     },
     "metadata": {},
     "output_type": "display_data"
    },
    {
     "data": {
      "application/vnd.jupyter.widget-view+json": {
       "model_id": "5f04577d1a15456db583b667dc784baf",
       "version_major": 2,
       "version_minor": 0
      },
      "text/plain": [
       "Output()"
      ]
     },
     "metadata": {},
     "output_type": "display_data"
    },
    {
     "data": {
      "application/vnd.jupyter.widget-view+json": {
       "model_id": "c5925c8752ec48b386ab488167d1acad",
       "version_major": 2,
       "version_minor": 0
      },
      "text/plain": [
       "HTML(value='<b>7. Which method appears to be the most sensitive to changes in cohesion based on the sensitivit…"
      ]
     },
     "metadata": {},
     "output_type": "display_data"
    },
    {
     "data": {
      "application/vnd.jupyter.widget-view+json": {
       "model_id": "3b6624cbf3d44a7abbfe826aca105abd",
       "version_major": 2,
       "version_minor": 0
      },
      "text/plain": [
       "RadioButtons(layout=Layout(width='max-content'), options=('A. Ordinary Method', 'B. Bishop Method', 'C. Janbu …"
      ]
     },
     "metadata": {},
     "output_type": "display_data"
    },
    {
     "data": {
      "application/vnd.jupyter.widget-view+json": {
       "model_id": "18c01096f2ad4f4998ffcdf153120ead",
       "version_major": 2,
       "version_minor": 0
      },
      "text/plain": [
       "Output()"
      ]
     },
     "metadata": {},
     "output_type": "display_data"
    },
    {
     "data": {
      "application/vnd.jupyter.widget-view+json": {
       "model_id": "036181414c4748c8ae054aed9e6cbca6",
       "version_major": 2,
       "version_minor": 0
      },
      "text/plain": [
       "HTML(value='<b>8. Which method is the most sensitive to changes in friction angle based on the sensitivity plo…"
      ]
     },
     "metadata": {},
     "output_type": "display_data"
    },
    {
     "data": {
      "application/vnd.jupyter.widget-view+json": {
       "model_id": "af79e4392868489e98c9425f395880cc",
       "version_major": 2,
       "version_minor": 0
      },
      "text/plain": [
       "RadioButtons(layout=Layout(width='max-content'), options=('A. Ordinary Method', 'B. Bishop Method', 'C. Spence…"
      ]
     },
     "metadata": {},
     "output_type": "display_data"
    },
    {
     "data": {
      "application/vnd.jupyter.widget-view+json": {
       "model_id": "9f8329a4738b4a709acddfa96d054a15",
       "version_major": 2,
       "version_minor": 0
      },
      "text/plain": [
       "Output()"
      ]
     },
     "metadata": {},
     "output_type": "display_data"
    },
    {
     "data": {
      "application/vnd.jupyter.widget-view+json": {
       "model_id": "0f1aef746ab149ac857fef4a31c2426d",
       "version_major": 2,
       "version_minor": 0
      },
      "text/plain": [
       "HTML(value='<b>9. How might the assumptions made in each method impact the results in a real-world scenario?</…"
      ]
     },
     "metadata": {},
     "output_type": "display_data"
    },
    {
     "data": {
      "application/vnd.jupyter.widget-view+json": {
       "model_id": "a3e73f5f5b874308a68b9e77f30081f9",
       "version_major": 2,
       "version_minor": 0
      },
      "text/plain": [
       "RadioButtons(layout=Layout(width='max-content'), options=('A. They could lead to overestimation of stability',…"
      ]
     },
     "metadata": {},
     "output_type": "display_data"
    },
    {
     "data": {
      "application/vnd.jupyter.widget-view+json": {
       "model_id": "9f28128c4c0d4bd3969d033f0de539ab",
       "version_major": 2,
       "version_minor": 0
      },
      "text/plain": [
       "Output()"
      ]
     },
     "metadata": {},
     "output_type": "display_data"
    },
    {
     "data": {
      "application/vnd.jupyter.widget-view+json": {
       "model_id": "6ccbd85a2c0a47418a75df860e7fd12c",
       "version_major": 2,
       "version_minor": 0
      },
      "text/plain": [
       "HTML(value='<b>10. How would you use the information from the sensitivity analysis to make decisions about slo…"
      ]
     },
     "metadata": {},
     "output_type": "display_data"
    },
    {
     "data": {
      "application/vnd.jupyter.widget-view+json": {
       "model_id": "1b02f6a0858145fe90c91b6722b6bf2a",
       "version_major": 2,
       "version_minor": 0
      },
      "text/plain": [
       "RadioButtons(layout=Layout(width='max-content'), options=('A. By considering the most sensitive parameters', '…"
      ]
     },
     "metadata": {},
     "output_type": "display_data"
    },
    {
     "data": {
      "application/vnd.jupyter.widget-view+json": {
       "model_id": "11935e77ee7a449d8048c85c13eff896",
       "version_major": 2,
       "version_minor": 0
      },
      "text/plain": [
       "Output()"
      ]
     },
     "metadata": {},
     "output_type": "display_data"
    }
   ],
   "source": [
    "import ipywidgets as widgets\n",
    "from IPython.display import display, clear_output\n",
    "\n",
    "# Quiz data\n",
    "quiz_data = [\n",
    "    {\n",
    "        \"question\": \"1. What is the main difference between the Ordinary Method and the Bishop Method in terms of assumptions and calculations?\",\n",
    "        \"options\": [\n",
    "            \"A. Ordinary Method assumes uniform slope height\",\n",
    "            \"B. Bishop Method considers inter-slice forces\",\n",
    "            \"C. Ordinary Method uses a simplified approach\",\n",
    "            \"D. Bishop Method uses a complex iterative approach\",\n",
    "            \"E. All of the above\"\n",
    "        ],\n",
    "        \"correct\": \"E. All of the above\",\n",
    "        \"explanation\": \"All listed differences are valid distinctions between the Ordinary and Bishop Methods.\"\n",
    "    },\n",
    "    {\n",
    "        \"question\": \"2. In the sensitivity analysis plots, what does an increase in cohesion generally do to the factor of safety?\",\n",
    "        \"options\": [\n",
    "            \"A. Decreases the factor of safety\",\n",
    "            \"B. Increases the factor of safety\",\n",
    "            \"C. Has no effect on the factor of safety\",\n",
    "            \"D. Makes the slope more unstable\"\n",
    "        ],\n",
    "        \"correct\": \"B. Increases the factor of safety\",\n",
    "        \"explanation\": \"Higher cohesion increases the shear strength, improving slope stability.\"\n",
    "    },\n",
    "    {\n",
    "        \"question\": \"3. When applying slope stability methods to a real-world problem, which additional data might be necessary?\",\n",
    "        \"options\": [\n",
    "            \"A. Soil properties\",\n",
    "            \"B. Groundwater conditions\",\n",
    "            \"C. Slope geometry\",\n",
    "            \"D. All of the above\"\n",
    "        ],\n",
    "        \"correct\": \"D. All of the above\",\n",
    "        \"explanation\": \"All these factors are essential for accurate slope stability analysis.\"\n",
    "    },\n",
    "    {\n",
    "        \"question\": \"4. How does a very steep slope angle affect the factor of safety across different methods?\",\n",
    "        \"options\": [\n",
    "            \"A. Increases the factor of safety\",\n",
    "            \"B. Decreases the factor of safety\",\n",
    "            \"C. Has no effect on the factor of safety\",\n",
    "            \"D. Makes the slope more stable\"\n",
    "        ],\n",
    "        \"correct\": \"B. Decreases the factor of safety\",\n",
    "        \"explanation\": \"Steeper slopes are generally less stable, reducing the factor of safety.\"\n",
    "    },\n",
    "    {\n",
    "        \"question\": \"5. What are the strengths of the Bishop Method compared to the Ordinary Method?\",\n",
    "        \"options\": [\n",
    "            \"A. Considers inter-slice forces\",\n",
    "            \"B. Provides more accurate results\",\n",
    "            \"C. Uses an iterative approach\",\n",
    "            \"D. All of the above\"\n",
    "        ],\n",
    "        \"correct\": \"D. All of the above\",\n",
    "        \"explanation\": \"The Bishop Method improves accuracy by considering inter-slice forces and using iteration.\"\n",
    "    },\n",
    "    {\n",
    "        \"question\": \"6. Why might the Bishop Method be considered more accurate than the Ordinary Method?\",\n",
    "        \"options\": [\n",
    "            \"A. It uses a simplified approach\",\n",
    "            \"B. It considers inter-slice forces\",\n",
    "            \"C. It assumes uniform slope height\",\n",
    "            \"D. It uses a complex iterative approach\"\n",
    "        ],\n",
    "        \"correct\": \"B. It considers inter-slice forces\",\n",
    "        \"explanation\": \"Considering inter-slice forces leads to more realistic and accurate results.\"\n",
    "    },\n",
    "    {\n",
    "        \"question\": \"7. Which method appears to be the most sensitive to changes in cohesion based on the sensitivity plots?\",\n",
    "        \"options\": [\n",
    "            \"A. Ordinary Method\",\n",
    "            \"B. Bishop Method\",\n",
    "            \"C. Janbu Method\",\n",
    "            \"D. Culmann Method\"\n",
    "        ],\n",
    "        \"correct\": \"B. Bishop Method\",\n",
    "        \"explanation\": \"The Bishop Method often shows higher sensitivity to cohesion changes.\"\n",
    "    },\n",
    "    {\n",
    "        \"question\": \"8. Which method is the most sensitive to changes in friction angle based on the sensitivity plots?\",\n",
    "        \"options\": [\n",
    "            \"A. Ordinary Method\",\n",
    "            \"B. Bishop Method\",\n",
    "            \"C. Spencer Method\",\n",
    "            \"D. Morgenstern-Price Method\"\n",
    "        ],\n",
    "        \"correct\": \"B. Bishop Method\",\n",
    "        \"explanation\": \"The Bishop Method is typically more responsive to changes in friction angle.\"\n",
    "    },\n",
    "    {\n",
    "        \"question\": \"9. How might the assumptions made in each method impact the results in a real-world scenario?\",\n",
    "        \"options\": [\n",
    "            \"A. They could lead to overestimation of stability\",\n",
    "            \"B. They could lead to underestimation of stability\",\n",
    "            \"C. They could affect the reliability of the results\",\n",
    "            \"D. All of the above\"\n",
    "        ],\n",
    "        \"correct\": \"D. All of the above\",\n",
    "        \"explanation\": \"Assumptions can skew results in multiple ways, affecting reliability.\"\n",
    "    },\n",
    "    {\n",
    "        \"question\": \"10. How would you use the information from the sensitivity analysis to make decisions about slope stabilization in a real-world project?\",\n",
    "        \"options\": [\n",
    "            \"A. By considering the most sensitive parameters\",\n",
    "            \"B. By ignoring the sensitivity analysis\",\n",
    "            \"C. By using the least sensitive method\",\n",
    "            \"D. By applying the results directly without further analysis\"\n",
    "        ],\n",
    "        \"correct\": \"A. By considering the most sensitive parameters\",\n",
    "        \"explanation\": \"Focusing on sensitive parameters helps prioritize stabilization efforts effectively.\"\n",
    "    }\n",
    "]\n",
    "\n",
    "# Display each question with interactive feedback\n",
    "for item in quiz_data:\n",
    "    radio = widgets.RadioButtons(options=item[\"options\"], layout={'width': 'max-content'})\n",
    "    output = widgets.Output()\n",
    "\n",
    "    def make_handler(radio, output, correct, explanation):\n",
    "        def handler(change):\n",
    "            with output:\n",
    "                output.clear_output()\n",
    "                if radio.value == correct:\n",
    "                    print(\"✅ Correct! \" + explanation)\n",
    "                else:\n",
    "                    print(\"❌ Incorrect. \" + explanation)\n",
    "        return handler\n",
    "\n",
    "    radio.observe(make_handler(radio, output, item[\"correct\"], item[\"explanation\"]), names='value')\n",
    "    display(widgets.HTML(f\"<b>{item['question']}</b>\"))\n",
    "    display(radio, output)\n"
   ]
  },
  {
   "cell_type": "code",
   "execution_count": null,
   "id": "0c5ba988",
   "metadata": {},
   "outputs": [],
   "source": []
  }
 ],
 "metadata": {
  "kernelspec": {
   "display_name": "Python 3 (ipykernel)",
   "language": "python",
   "name": "python3"
  },
  "language_info": {
   "codemirror_mode": {
    "name": "ipython",
    "version": 3
   },
   "file_extension": ".py",
   "mimetype": "text/x-python",
   "name": "python",
   "nbconvert_exporter": "python",
   "pygments_lexer": "ipython3",
   "version": "3.9.13"
  }
 },
 "nbformat": 4,
 "nbformat_minor": 5
}
